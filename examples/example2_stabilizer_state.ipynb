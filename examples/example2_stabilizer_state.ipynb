{
 "cells": [
  {
   "cell_type": "code",
   "execution_count": 2,
   "id": "17d51294",
   "metadata": {},
   "outputs": [],
   "source": [
    "import pyclifford as pc\n",
    "import numpy as np"
   ]
  },
  {
   "cell_type": "markdown",
   "id": "54514093",
   "metadata": {},
   "source": [
    "## Construct Clifford Maps"
   ]
  },
  {
   "cell_type": "markdown",
   "id": "8f6fd82a",
   "metadata": {},
   "source": [
    "`identity_map(N)` constructs an identity Clifford map on $N$ qubits."
   ]
  },
  {
   "cell_type": "code",
   "execution_count": 3,
   "id": "33b6058d",
   "metadata": {},
   "outputs": [
    {
     "data": {
      "text/plain": [
       "CliffordMap(\n",
       "  X0-> +XIII\n",
       "  Z0-> +ZIII\n",
       "  X1-> +IXII\n",
       "  Z1-> +IZII\n",
       "  X2-> +IIXI\n",
       "  Z2-> +IIZI\n",
       "  X3-> +IIIX\n",
       "  Z3-> +IIIZ)"
      ]
     },
     "execution_count": 3,
     "metadata": {},
     "output_type": "execute_result"
    }
   ],
   "source": [
    "pc.identity_map(4)"
   ]
  },
  {
   "cell_type": "markdown",
   "id": "9c768220",
   "metadata": {},
   "source": [
    "`random_pauli_map(N)` samples a random Clifford map made of random single-qubit Clifford gates on $N$ qubits, i.e. $U=\\prod_i U_i\\in\\mathrm{Cl}(2)^N$. Each realization specifies a random local Pauli basis."
   ]
  },
  {
   "cell_type": "code",
   "execution_count": 4,
   "id": "220dba9a",
   "metadata": {},
   "outputs": [
    {
     "data": {
      "text/plain": [
       "CliffordMap(\n",
       "  X0-> +ZIII\n",
       "  Z0-> -YIII\n",
       "  X1-> +IXII\n",
       "  Z1-> +IYII\n",
       "  X2-> +IIZI\n",
       "  Z2-> +IIXI\n",
       "  X3-> +IIIZ\n",
       "  Z3-> +IIIY)"
      ]
     },
     "execution_count": 4,
     "metadata": {},
     "output_type": "execute_result"
    }
   ],
   "source": [
    "pc.random_pauli_map(4)"
   ]
  },
  {
   "cell_type": "markdown",
   "id": "91c7343d",
   "metadata": {},
   "source": [
    "`random_clifford_map(N)` samples a globally random Clifford map on $N$ qubits, i.e. $U\\in\\mathrm{Cl}(2^N)$. Each realization specifies a random global stabilizer basis."
   ]
  },
  {
   "cell_type": "code",
   "execution_count": 6,
   "id": "601ca5f0",
   "metadata": {},
   "outputs": [
    {
     "data": {
      "text/plain": [
       "CliffordMap(\n",
       "  X0-> -ZXIZ\n",
       "  Z0-> -XIYI\n",
       "  X1-> +XXYX\n",
       "  Z1-> -IXYZ\n",
       "  X2-> -YXZX\n",
       "  Z2-> -IIYI\n",
       "  X3-> -IXII\n",
       "  Z3-> +IZIY)"
      ]
     },
     "execution_count": 6,
     "metadata": {},
     "output_type": "execute_result"
    }
   ],
   "source": [
    "pc.random_clifford_map(4)"
   ]
  },
  {
   "cell_type": "markdown",
   "id": "eb564ac5",
   "metadata": {},
   "source": [
    "`clifford_rotation_map(N)` constructs a Clifford map based for a Clifford rotation given its generator."
   ]
  },
  {
   "cell_type": "code",
   "execution_count": 8,
   "id": "ee30fe1e",
   "metadata": {},
   "outputs": [
    {
     "data": {
      "text/plain": [
       "CliffordMap(\n",
       "  X0-> +XIII\n",
       "  Z0-> +YXYZ\n",
       "  X1-> +IXII\n",
       "  Z1-> +XYYZ\n",
       "  X2-> +XXZZ\n",
       "  Z2-> -XXXZ\n",
       "  X3-> -XXYY\n",
       "  Z3-> +IIIZ)"
      ]
     },
     "execution_count": 8,
     "metadata": {},
     "output_type": "execute_result"
    }
   ],
   "source": [
    "pc.clifford_rotation_map('-XXYZ')"
   ]
  },
  {
   "cell_type": "markdown",
   "id": "5b9d0157",
   "metadata": {},
   "source": [
    "## Construct Stabilizer States"
   ]
  },
  {
   "cell_type": "markdown",
   "id": "5e5d4534",
   "metadata": {},
   "source": [
    "`maximally_mixed_state(N)` constructs a $N$-qubit maximally mixed state (by setting the density matrix to full rank).\n",
    "$$\\rho=2^{-N}\\mathbb{1}.$$"
   ]
  },
  {
   "cell_type": "code",
   "execution_count": 9,
   "id": "7386aaa5",
   "metadata": {},
   "outputs": [
    {
     "data": {
      "text/plain": [
       "StabilizerState()"
      ]
     },
     "execution_count": 9,
     "metadata": {},
     "output_type": "execute_result"
    }
   ],
   "source": [
    "pc.maximally_mixed_state(4)"
   ]
  },
  {
   "cell_type": "markdown",
   "id": "1fcb3c0a",
   "metadata": {},
   "source": [
    "`zero_state(N)` constructs a $N$-qubit all-zero state \n",
    "$$\\rho=|0\\cdots0\\rangle\\langle 0\\cdots0|=\\prod_{i}\\frac{1+Z_i}{2}.$$"
   ]
  },
  {
   "cell_type": "code",
   "execution_count": 10,
   "id": "2ea8e950",
   "metadata": {},
   "outputs": [
    {
     "data": {
      "text/plain": [
       "StabilizerState(\n",
       "   +ZIII\n",
       "   +IZII\n",
       "   +IIZI\n",
       "   +IIIZ)"
      ]
     },
     "execution_count": 10,
     "metadata": {},
     "output_type": "execute_result"
    }
   ],
   "source": [
    "pc.zero_state(4)"
   ]
  },
  {
   "cell_type": "markdown",
   "id": "5ed83df9",
   "metadata": {},
   "source": [
    "`one_state(N)` constructs a $N$-qubit all-one state \n",
    "$$\\rho=|1\\cdots1\\rangle\\langle 1\\cdots1|=\\prod_{i}\\frac{1-Z_i}{2}.$$"
   ]
  },
  {
   "cell_type": "code",
   "execution_count": 11,
   "id": "30b34228",
   "metadata": {},
   "outputs": [
    {
     "data": {
      "text/plain": [
       "StabilizerState(\n",
       "   -ZIII\n",
       "   -IZII\n",
       "   -IIZI\n",
       "   -IIIZ)"
      ]
     },
     "execution_count": 11,
     "metadata": {},
     "output_type": "execute_result"
    }
   ],
   "source": [
    "pc.one_state(4)"
   ]
  },
  {
   "cell_type": "markdown",
   "id": "e5425de7",
   "metadata": {},
   "source": [
    "`ghz_state(N)` constructs a $N$-qubit GHZ state\n",
    "$$\\rho = |\\Psi\\rangle\\langle\\Psi|, \\qquad \\text{with }|\\Psi\\rangle=\\frac{1}{\\sqrt{2}}(|0\\cdots0\\rangle+|1\\cdots1\\rangle).$$"
   ]
  },
  {
   "cell_type": "code",
   "execution_count": 12,
   "id": "ebad0830",
   "metadata": {},
   "outputs": [
    {
     "data": {
      "text/plain": [
       "StabilizerState(\n",
       "   +ZZII\n",
       "   +IZZI\n",
       "   +IIZZ\n",
       "   +XXXX)"
      ]
     },
     "execution_count": 12,
     "metadata": {},
     "output_type": "execute_result"
    }
   ],
   "source": [
    "pc.ghz_state(4)"
   ]
  },
  {
   "cell_type": "markdown",
   "id": "9708ad8d",
   "metadata": {},
   "source": [
    "`random_pauli_map(N)` samples a $N$ qubit random Pauli state.\n",
    "$$\\rho=U|0\\cdots0\\rangle\\langle 0\\cdots0|U^\\dagger,\\qquad\\text{with }U\\in \\mathrm{Cl}(2)^N.$$"
   ]
  },
  {
   "cell_type": "code",
   "execution_count": 13,
   "id": "bf0c2b40",
   "metadata": {},
   "outputs": [
    {
     "data": {
      "text/plain": [
       "CliffordMap(\n",
       "  X0-> -ZIII\n",
       "  Z0-> +YIII\n",
       "  X1-> -IXII\n",
       "  Z1-> -IZII\n",
       "  X2-> +IIZI\n",
       "  Z2-> +IIXI\n",
       "  X3-> -IIIZ\n",
       "  Z3-> -IIIY)"
      ]
     },
     "execution_count": 13,
     "metadata": {},
     "output_type": "execute_result"
    }
   ],
   "source": [
    "pc.random_pauli_map(4)"
   ]
  },
  {
   "cell_type": "markdown",
   "id": "19a168a3",
   "metadata": {},
   "source": [
    "`random_clifford_map(N)` samples a $N$ qubit random Clifford (random stabilizer) state.\n",
    "$$\\rho=U|0\\cdots0\\rangle\\langle 0\\cdots0|U^\\dagger,\\qquad\\text{with }U\\in \\mathrm{Cl}(2^N).$$"
   ]
  },
  {
   "cell_type": "code",
   "execution_count": 14,
   "id": "ebba6d9c",
   "metadata": {},
   "outputs": [
    {
     "data": {
      "text/plain": [
       "StabilizerState(\n",
       "   +ZZYI\n",
       "   +YYYX\n",
       "   +XXYX\n",
       "   +ZZIX)"
      ]
     },
     "execution_count": 14,
     "metadata": {},
     "output_type": "execute_result"
    }
   ],
   "source": [
    "pc.random_clifford_state(4)"
   ]
  },
  {
   "cell_type": "markdown",
   "id": "e18bcd4c",
   "metadata": {},
   "source": [
    "`stabilizer_state(...)` is a universal constructor of stabilizer state by specifying all stabilizers."
   ]
  },
  {
   "cell_type": "code",
   "execution_count": 16,
   "id": "2132da15",
   "metadata": {},
   "outputs": [
    {
     "data": {
      "text/plain": [
       "StabilizerState(\n",
       "   +XXY\n",
       "   +ZZI\n",
       "   +IZZ)"
      ]
     },
     "execution_count": 16,
     "metadata": {},
     "output_type": "execute_result"
    }
   ],
   "source": [
    "pc.stabilizer_state('XXY','ZZI','IZZ')"
   ]
  },
  {
   "cell_type": "markdown",
   "id": "0b74fc75",
   "metadata": {},
   "source": [
    "## Construct Stabilizer States by Checker Matrix"
   ]
  },
  {
   "cell_type": "markdown",
   "id": "3bbb0f5f",
   "metadata": {},
   "source": [
    "The user can also construct stabilizer state by low-level constructor `StabilizerState(gs, ps, r=0)`:\n",
    "\n",
    "**Parameters**\n",
    "- `gs: int (2*N, 2*N)`: strings of Pauli operators in the stabilizer tableau.\n",
    "- `ps: int (2*N)`: phase indicators (should only be 0 or 2).\n",
    "- `r:  int`: number of logical qubits (log2 rank of density matrix)'''\n",
    "\n",
    "**Returns**\n",
    "- Object of `StabilizerState`"
   ]
  },
  {
   "cell_type": "code",
   "execution_count": 17,
   "id": "1b9e4678",
   "metadata": {},
   "outputs": [
    {
     "name": "stdout",
     "output_type": "stream",
     "text": [
      "StabilizerState(\n",
      "   +IXI\n",
      "   +YXI\n",
      "   +YIY)\n"
     ]
    }
   ],
   "source": [
    "tmp_state = pc.random_clifford_state(3)\n",
    "print(tmp_state)"
   ]
  },
  {
   "cell_type": "code",
   "execution_count": 18,
   "id": "ef7be87a",
   "metadata": {},
   "outputs": [
    {
     "data": {
      "text/plain": [
       "StabilizerState(\n",
       "   +IXI\n",
       "   +YXI\n",
       "   +YIY)"
      ]
     },
     "execution_count": 18,
     "metadata": {},
     "output_type": "execute_result"
    }
   ],
   "source": [
    "gs = tmp_state.gs\n",
    "ps = tmp_state.ps\n",
    "pc.StabilizerState(gs=gs,ps=ps)"
   ]
  },
  {
   "cell_type": "markdown",
   "id": "ad115fbf",
   "metadata": {},
   "source": [
    "A hack to inspect the full stabilizer tableau is by converting `StabilizerState` to `PauliList` by"
   ]
  },
  {
   "cell_type": "code",
   "execution_count": 19,
   "id": "1a571a80",
   "metadata": {},
   "outputs": [
    {
     "data": {
      "text/plain": [
       " +XXY\n",
       " +ZZI\n",
       " +IZZ\n",
       " +ZII\n",
       " +ZXX\n",
       " +ZIX"
      ]
     },
     "execution_count": 19,
     "metadata": {},
     "output_type": "execute_result"
    }
   ],
   "source": [
    "pc.stabilizer_state('XXY','ZZI','IZZ')[:]"
   ]
  },
  {
   "cell_type": "markdown",
   "id": "e053a575",
   "metadata": {},
   "source": [
    "## State-Map convertion"
   ]
  },
  {
   "cell_type": "markdown",
   "id": "3f556a39",
   "metadata": {},
   "source": [
    "Stabilizer states and Clifford maps can be mapped to each other."
   ]
  },
  {
   "cell_type": "code",
   "execution_count": 20,
   "id": "3867ae78",
   "metadata": {},
   "outputs": [
    {
     "name": "stdout",
     "output_type": "stream",
     "text": [
      "quantum state: \n",
      " StabilizerState(\n",
      "   +XXX\n",
      "   +ZZI\n",
      "   +IZZ)\n"
     ]
    }
   ],
   "source": [
    "rho = pc.stabilizer_state('XXX','ZZI','IZZ')\n",
    "print(\"quantum state: \\n\", rho)"
   ]
  },
  {
   "cell_type": "code",
   "execution_count": 21,
   "id": "dd8affc1",
   "metadata": {},
   "outputs": [
    {
     "data": {
      "text/plain": [
       "CliffordMap(\n",
       "  X0-> +ZII\n",
       "  Z0-> +XXX\n",
       "  X1-> +IXX\n",
       "  Z1-> +ZZI\n",
       "  X2-> +IIX\n",
       "  Z2-> +IZZ)"
      ]
     },
     "execution_count": 21,
     "metadata": {},
     "output_type": "execute_result"
    }
   ],
   "source": [
    "rho.to_map()"
   ]
  },
  {
   "cell_type": "markdown",
   "id": "638ecda8",
   "metadata": {},
   "source": [
    "And Clifford map can be converted back to the stabilizer state."
   ]
  },
  {
   "cell_type": "code",
   "execution_count": 22,
   "id": "01f44226",
   "metadata": {},
   "outputs": [
    {
     "data": {
      "text/plain": [
       "StabilizerState(\n",
       "   +XXX\n",
       "   +ZZI\n",
       "   +IZZ)"
      ]
     },
     "execution_count": 22,
     "metadata": {},
     "output_type": "execute_result"
    }
   ],
   "source": [
    "rho.to_map().to_state()"
   ]
  },
  {
   "cell_type": "markdown",
   "id": "23bc1920",
   "metadata": {},
   "source": [
    "* `.to_map()` and `.to_state()` will make **new copies** of Pauli string data in the memory."
   ]
  },
  {
   "cell_type": "markdown",
   "id": "31cf1509",
   "metadata": {},
   "source": [
    "<div class=\"alert alert-block alert-danger\">\n",
    "The information about the rank of the density matrix is lost in the Clifford map, so the back conversion will result in a zero rank stabilizer state.\n",
    "</div>"
   ]
  },
  {
   "cell_type": "markdown",
   "id": "eee2fbbc",
   "metadata": {},
   "source": [
    "## Methods for Clifford maps"
   ]
  },
  {
   "cell_type": "markdown",
   "id": "3d8312d7",
   "metadata": {},
   "source": [
    "### Embedding small Clifford map into larger map"
   ]
  },
  {
   "cell_type": "markdown",
   "id": "4b4cff97",
   "metadata": {},
   "source": [
    "`.embed(small_map, mask)` provides the method to embed a smaller Clifford map on a subset of qubits to the current Clifford map. This is a **in-place** operation. The Clifford map object that provide this method will get modified under the embedding.\n",
    "\n",
    "**Parameters:**\n",
    "* `small_map` is a `CliffordMap` object supported on a subset of qubits.\n",
    "* `mask` is a boolean array specifying the subset of qubits."
   ]
  },
  {
   "cell_type": "code",
   "execution_count": 24,
   "id": "524460ef",
   "metadata": {},
   "outputs": [
    {
     "data": {
      "text/plain": [
       "CliffordMap(\n",
       "  X0-> +XIIIII\n",
       "  Z0-> +ZIIIII\n",
       "  X1-> +IXIIII\n",
       "  Z1-> +IZIIII\n",
       "  X2-> +IIXIII\n",
       "  Z2-> +IIZIII\n",
       "  X3-> +IIIXII\n",
       "  Z3-> +IIIZII\n",
       "  X4-> +IIIIXI\n",
       "  Z4-> +IIIIZI\n",
       "  X5-> +IIIIIX\n",
       "  Z5-> +IIIIIZ)"
      ]
     },
     "execution_count": 24,
     "metadata": {},
     "output_type": "execute_result"
    }
   ],
   "source": [
    "cmap = pc.identity_map(6)\n",
    "cmap"
   ]
  },
  {
   "cell_type": "code",
   "execution_count": 25,
   "id": "4bf1be72",
   "metadata": {},
   "outputs": [
    {
     "data": {
      "text/plain": [
       "CliffordMap(\n",
       "  X0-> -XIIXYI\n",
       "  Z0-> -YIIZZI\n",
       "  X1-> +IXIIII\n",
       "  Z1-> +IZIIII\n",
       "  X2-> +IIXIII\n",
       "  Z2-> +IIZIII\n",
       "  X3-> -YIIXXI\n",
       "  Z3-> -XIIXII\n",
       "  X4-> -XIIIYI\n",
       "  Z4-> +ZIIYII\n",
       "  X5-> +IIIIIX\n",
       "  Z5-> +IIIIIZ)"
      ]
     },
     "execution_count": 25,
     "metadata": {},
     "output_type": "execute_result"
    }
   ],
   "source": [
    "cmap.embed(pc.random_clifford_map(3), np.array([True,False,False,True,True,False]))"
   ]
  },
  {
   "cell_type": "markdown",
   "id": "ed588501",
   "metadata": {},
   "source": [
    "### Map Composition"
   ]
  },
  {
   "cell_type": "markdown",
   "id": "fd10d4f6",
   "metadata": {},
   "source": [
    "`.compose(other)` returns the composition of the current Clifford map with another Clifford map. This will return a new Clifford map without modifying either of the input maps. The Clifford map object which initiates this method will be the preceeding map in the composition. \n",
    "\n",
    "**Parameters:**\n",
    "* `other` - another `CliffordMap`."
   ]
  },
  {
   "cell_type": "code",
   "execution_count": 27,
   "id": "6671033b",
   "metadata": {},
   "outputs": [
    {
     "data": {
      "text/plain": [
       "CliffordMap(\n",
       "  X0-> +YZYIZZ\n",
       "  Z0-> -YXIXYX\n",
       "  X1-> -XXYXIZ\n",
       "  Z1-> -XZIZIY\n",
       "  X2-> -IYYYYI\n",
       "  Z2-> -IIIZYY\n",
       "  X3-> -XIYYIX\n",
       "  Z3-> +IZYZII\n",
       "  X4-> +ZZZXXY\n",
       "  Z4-> -YXIXIX\n",
       "  X5-> +IIXXIX\n",
       "  Z5-> +YXYXIX)"
      ]
     },
     "execution_count": 27,
     "metadata": {},
     "output_type": "execute_result"
    }
   ],
   "source": [
    "cmap.compose(pc.random_clifford_map(6))"
   ]
  },
  {
   "cell_type": "markdown",
   "id": "53a14015",
   "metadata": {},
   "source": [
    "### Map Inversion"
   ]
  },
  {
   "cell_type": "markdown",
   "id": "84faebb9",
   "metadata": {},
   "source": [
    "`.inverse()` returns the inverse of the current Clifford map. This will return a new Clifford map withoutt modifying the original map. The inverse map is such that its composition with the original map must be identity"
   ]
  },
  {
   "cell_type": "code",
   "execution_count": 28,
   "id": "2df2583f",
   "metadata": {},
   "outputs": [
    {
     "data": {
      "text/plain": [
       "CliffordMap(\n",
       "  X0-> -Z\n",
       "  Z0-> +X)"
      ]
     },
     "execution_count": 28,
     "metadata": {},
     "output_type": "execute_result"
    }
   ],
   "source": [
    "cmap = pc.clifford_rotation_map('Y')\n",
    "cmap"
   ]
  },
  {
   "cell_type": "code",
   "execution_count": 29,
   "id": "e1e8d681",
   "metadata": {},
   "outputs": [
    {
     "data": {
      "text/plain": [
       "CliffordMap(\n",
       "  X0-> +Z\n",
       "  Z0-> -X)"
      ]
     },
     "execution_count": 29,
     "metadata": {},
     "output_type": "execute_result"
    }
   ],
   "source": [
    "cmap.inverse()"
   ]
  },
  {
   "cell_type": "markdown",
   "id": "933301d0",
   "metadata": {},
   "source": [
    "## Methods for stabilizer states"
   ]
  },
  {
   "cell_type": "markdown",
   "id": "f8222c96",
   "metadata": {},
   "source": [
    "### Measurement"
   ]
  },
  {
   "cell_type": "markdown",
   "id": "77ea53e0",
   "metadata": {},
   "source": [
    "`StabilizerState.measure(obs)` measure the stabilizer state on a set of commuting observables.\n",
    "\n",
    "**Parameters:**\n",
    "* `obs` - Observables to measure. The following types are supported:\n",
    "    * `PauliList` - a list of Pauli operators (user must ensure that operators in the list are commuting, otherwise they can not measured simutaneously).\n",
    "    * `StabilizerState` - stabilizers of a stabilizer state is always commuting, which can be treated as commuting observables for measurement.\n",
    "\n",
    "**Returns:**\n",
    "* `out` - measuremnt outcome, can only be $0$, $1$ for independent Pauli observables on stabilizer state, where 0 means positive (+1) eigenvalue, and 1 means negative (-1) eigenvalue.\n",
    "* `log2prob` - the log2 of the probability of realizing this particular outcome."
   ]
  },
  {
   "cell_type": "code",
   "execution_count": 30,
   "id": "4770a106",
   "metadata": {},
   "outputs": [
    {
     "data": {
      "text/plain": [
       "StabilizerState(\n",
       "   +ZZI\n",
       "   +IZZ\n",
       "   +XXX)"
      ]
     },
     "execution_count": 30,
     "metadata": {},
     "output_type": "execute_result"
    }
   ],
   "source": [
    "state = pc.ghz_state(3)\n",
    "state"
   ]
  },
  {
   "cell_type": "code",
   "execution_count": 31,
   "id": "7962ef90",
   "metadata": {},
   "outputs": [
    {
     "data": {
      "text/plain": [
       "(array([1, 1, 1]), -1.0)"
      ]
     },
     "execution_count": 31,
     "metadata": {},
     "output_type": "execute_result"
    }
   ],
   "source": [
    "state.measure(pc.paulis('ZII','IZI','IIZ'))"
   ]
  },
  {
   "cell_type": "markdown",
   "id": "67c24f12",
   "metadata": {},
   "source": [
    "In the above example, I created a GHZ state, and did single qubit Z-basis measurements on each of the qubit. We get -1 for all qubits with probility $2^{-1}=0.5$"
   ]
  },
  {
   "cell_type": "markdown",
   "id": "e872e409",
   "metadata": {},
   "source": [
    "<div class=\"alert alert-block alert-danger\">\n",
    "Measurement will <b>in place </b> change the state, as measurement will collapse the quantum state.\n",
    "</div>"
   ]
  },
  {
   "cell_type": "code",
   "execution_count": 33,
   "id": "9ea5fc0c",
   "metadata": {},
   "outputs": [
    {
     "data": {
      "text/plain": [
       "(array([0, 0, 0]), -1.0)"
      ]
     },
     "execution_count": 33,
     "metadata": {},
     "output_type": "execute_result"
    }
   ],
   "source": [
    "state = pc.ghz_state(3)\n",
    "state.measure(pc.paulis('ZII','IZI','IIZ'))"
   ]
  },
  {
   "cell_type": "code",
   "execution_count": 34,
   "id": "0fd880ab",
   "metadata": {},
   "outputs": [
    {
     "data": {
      "text/plain": [
       "(array([0, 0, 0]), 0.0)"
      ]
     },
     "execution_count": 34,
     "metadata": {},
     "output_type": "execute_result"
    }
   ],
   "source": [
    "state.measure(pc.paulis('ZII','IZI','IIZ'))"
   ]
  },
  {
   "cell_type": "markdown",
   "id": "8dbbe59f",
   "metadata": {},
   "source": [
    "We see the second measurement will return the same measurement result with 100% probability"
   ]
  },
  {
   "cell_type": "markdown",
   "id": "92ee9d4d",
   "metadata": {},
   "source": [
    "### Expectation"
   ]
  },
  {
   "cell_type": "markdown",
   "id": "fd260bb9",
   "metadata": {},
   "source": [
    "`StabilizerState.expect()` provide fast algorithm to evaluate expectation value of:\n",
    "- Pauli operator\n",
    "- Pauli Monomial/Polynomial\n",
    "- Overlap between stabilizer states <font color='red'>Warning: currently it only supports pure state overlap with general stabilizer states.</font>"
   ]
  },
  {
   "cell_type": "code",
   "execution_count": 37,
   "id": "f92c50de",
   "metadata": {},
   "outputs": [
    {
     "name": "stdout",
     "output_type": "stream",
     "text": [
      "expectation values:  [ 1  0 -1]\n"
     ]
    }
   ],
   "source": [
    "state = pc.ghz_state(5)\n",
    "print(\"expectation values: \", state.expect(pc.paulis('XXXXX','IZIII','-ZZIII')))"
   ]
  },
  {
   "cell_type": "code",
   "execution_count": 38,
   "id": "6a669656",
   "metadata": {},
   "outputs": [
    {
     "name": "stdout",
     "output_type": "stream",
     "text": [
      "expectation values:  (0.5-0.2j)\n"
     ]
    }
   ],
   "source": [
    "pauli_poly = 0.5*pc.pauli('XXXXX')+0.2j*pc.pauli('-ZZIII')\n",
    "print(\"expectation values: \", state.expect(pauli_poly))"
   ]
  },
  {
   "cell_type": "markdown",
   "id": "fdeb5536",
   "metadata": {},
   "source": [
    "### Overlap between two stabilizer states (fidelity)"
   ]
  },
  {
   "cell_type": "code",
   "execution_count": 39,
   "id": "0a308f0b",
   "metadata": {},
   "outputs": [
    {
     "name": "stdout",
     "output_type": "stream",
     "text": [
      "State overlap is: 0.125\n"
     ]
    }
   ],
   "source": [
    "state = pc.ghz_state(3)\n",
    "state2 = pc.random_clifford_state(3)\n",
    "print(\"State overlap is:\", state.expect(state2))"
   ]
  },
  {
   "cell_type": "code",
   "execution_count": 40,
   "id": "24dc5683",
   "metadata": {},
   "outputs": [
    {
     "name": "stdout",
     "output_type": "stream",
     "text": [
      "State overlap is: 0.5\n"
     ]
    }
   ],
   "source": [
    "state = pc.ghz_state(3)\n",
    "state2 = pc.random_clifford_state(3)\n",
    "state2.set_r(1)\n",
    "print(\"State overlap is:\", state.expect(state2))"
   ]
  },
  {
   "cell_type": "markdown",
   "id": "c09815fa",
   "metadata": {},
   "source": [
    "### The probability of getting a bit-string readout (Bit-string probability)"
   ]
  },
  {
   "cell_type": "markdown",
   "id": "ce816264",
   "metadata": {},
   "source": [
    "`StabilizerState.get_prob(bitstring)` will return the probability of measuring given bitstring at current stabilizer state.\n",
    "**Input**\n",
    "- bitstring: Integer type 1D array\n",
    "**Output**\n",
    "- probability"
   ]
  },
  {
   "cell_type": "code",
   "execution_count": 41,
   "id": "445c9a90",
   "metadata": {},
   "outputs": [
    {
     "name": "stdout",
     "output_type": "stream",
     "text": [
      "probability of measuring 11..1 is  0.5\n"
     ]
    }
   ],
   "source": [
    "state = pc.ghz_state(25)\n",
    "print(\"probability of measuring 11..1 is \", state.get_prob(np.ones(25)))"
   ]
  },
  {
   "cell_type": "markdown",
   "id": "aeb40e70",
   "metadata": {},
   "source": [
    "### Transform stabilzier state by rotation/Clifford transformation"
   ]
  },
  {
   "cell_type": "markdown",
   "id": "e5c46794",
   "metadata": {},
   "source": [
    "As a derived class of `PauliList`, `StabilizerState` also support `StabilizerState.rotate_by(pauli)` and `StabilizerState.transform_by(clifford_map)`"
   ]
  },
  {
   "cell_type": "code",
   "execution_count": 42,
   "id": "07128f8e",
   "metadata": {},
   "outputs": [],
   "source": [
    "rho = pc.ghz_state(4)"
   ]
  },
  {
   "cell_type": "code",
   "execution_count": 43,
   "id": "2d1e1fe7",
   "metadata": {},
   "outputs": [
    {
     "data": {
      "text/plain": [
       "StabilizerState(\n",
       "   -YIXI\n",
       "   -XIYI\n",
       "   -XZYZ\n",
       "   +IYIX)"
      ]
     },
     "execution_count": 43,
     "metadata": {},
     "output_type": "execute_result"
    }
   ],
   "source": [
    "rho.rotate_by(pc.pauli([1,3,1,0]))"
   ]
  },
  {
   "cell_type": "code",
   "execution_count": 44,
   "id": "71c856e9",
   "metadata": {},
   "outputs": [
    {
     "data": {
      "text/plain": [
       "StabilizerState(\n",
       "   -XXYZ\n",
       "   -ZIXI\n",
       "   +YZYI\n",
       "   +XZZZ)"
      ]
     },
     "execution_count": 44,
     "metadata": {},
     "output_type": "execute_result"
    }
   ],
   "source": [
    "rho.transform_by(pc.random_clifford_map(4))"
   ]
  },
  {
   "cell_type": "markdown",
   "id": "3a7514f0",
   "metadata": {},
   "source": [
    "### Sample stabilizers from the stabilizer group"
   ]
  },
  {
   "cell_type": "markdown",
   "id": "8f608ff8",
   "metadata": {},
   "source": [
    "`Stabilizer.sample(L)` will sample $L$ stabilizers in the stabilizer group"
   ]
  },
  {
   "cell_type": "code",
   "execution_count": 45,
   "id": "2085dde4",
   "metadata": {},
   "outputs": [
    {
     "data": {
      "text/plain": [
       " +ZIIZ\n",
       " -YXXY\n",
       " +IZZI"
      ]
     },
     "execution_count": 45,
     "metadata": {},
     "output_type": "execute_result"
    }
   ],
   "source": [
    "rho = pc.ghz_state(4)\n",
    "rho.sample(3)"
   ]
  },
  {
   "cell_type": "markdown",
   "id": "e3ac0511",
   "metadata": {},
   "source": [
    "### Get density matrix of a stabilizer state"
   ]
  },
  {
   "cell_type": "markdown",
   "id": "7e6928ba",
   "metadata": {},
   "source": [
    "@property `StabilizerState.density_matrix` will return density matrix of stabilizer state as `PauliPolynomial`"
   ]
  },
  {
   "cell_type": "code",
   "execution_count": 5,
   "id": "bd6119f4",
   "metadata": {},
   "outputs": [
    {
     "data": {
      "text/plain": [
       "0.25 II +0.25 XX +0.25 ZZ -0.25 YY"
      ]
     },
     "execution_count": 5,
     "metadata": {},
     "output_type": "execute_result"
    }
   ],
   "source": [
    "pc.ghz_state(2).density_matrix"
   ]
  },
  {
   "cell_type": "markdown",
   "id": "88e1ab3e",
   "metadata": {},
   "source": [
    "### Calculate Entropy of a stabilizer state"
   ]
  },
  {
   "cell_type": "markdown",
   "id": "575af531",
   "metadata": {},
   "source": [
    "`StabilizerState.entropy(subsys)` will calculate the second Renyi entropy of the stabilizer state on subregion.\n",
    "**Parameter**\n",
    "- `subsys`: List containing the location of region"
   ]
  },
  {
   "cell_type": "code",
   "execution_count": 48,
   "id": "de2b4d80",
   "metadata": {},
   "outputs": [
    {
     "name": "stdout",
     "output_type": "stream",
     "text": [
      "entropy of region [1,5,10] is  3\n"
     ]
    }
   ],
   "source": [
    "state = pc.random_clifford_state(20)\n",
    "print(\"entropy of region [1,5,10] is \", state.entropy([1,5,10]))"
   ]
  },
  {
   "cell_type": "markdown",
   "id": "f2699e8f",
   "metadata": {},
   "source": [
    "### Copy a stabilizer state"
   ]
  },
  {
   "cell_type": "markdown",
   "id": "f6139627",
   "metadata": {},
   "source": [
    "`StabilizerState.copy()` returns a copy of the state, such that the original state will not be touch by modification on the copy state. It is useful to copy the state for measurement (as measurement changes the state).\n",
    "\n",
    "Example:"
   ]
  },
  {
   "cell_type": "code",
   "execution_count": 50,
   "id": "6016ceb4",
   "metadata": {},
   "outputs": [],
   "source": [
    "state = pc.random_clifford_state(4).copy()"
   ]
  },
  {
   "cell_type": "code",
   "execution_count": null,
   "id": "2efe6feb",
   "metadata": {},
   "outputs": [],
   "source": []
  }
 ],
 "metadata": {
  "kernelspec": {
   "display_name": "pyclifford",
   "language": "python",
   "name": "python3"
  },
  "language_info": {
   "codemirror_mode": {
    "name": "ipython",
    "version": 3
   },
   "file_extension": ".py",
   "mimetype": "text/x-python",
   "name": "python",
   "nbconvert_exporter": "python",
   "pygments_lexer": "ipython3",
   "version": "3.11.8"
  }
 },
 "nbformat": 4,
 "nbformat_minor": 5
}
