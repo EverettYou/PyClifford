{
 "cells": [
  {
   "cell_type": "code",
   "execution_count": 2,
   "id": "e5f102f9",
   "metadata": {},
   "outputs": [],
   "source": [
    "import pyclifford as pc\n",
    "import numpy as np"
   ]
  },
  {
   "cell_type": "markdown",
   "id": "b7169705",
   "metadata": {},
   "source": [
    "## Pauli operator"
   ]
  },
  {
   "cell_type": "markdown",
   "id": "e72f50c2",
   "metadata": {},
   "source": [
    "### Construct Pauli operator with its expression"
   ]
  },
  {
   "cell_type": "markdown",
   "id": "7990fcde",
   "metadata": {},
   "source": [
    "A **Pauli operator** can be constructed using the `pauli()` constructor."
   ]
  },
  {
   "cell_type": "code",
   "execution_count": 3,
   "id": "f742faed",
   "metadata": {},
   "outputs": [
    {
     "data": {
      "text/plain": [
       " +XXIYZ"
      ]
     },
     "execution_count": 3,
     "metadata": {},
     "output_type": "execute_result"
    }
   ],
   "source": [
    "pc.pauli('XXIYZ')"
   ]
  },
  {
   "cell_type": "markdown",
   "id": "c7b1563d",
   "metadata": {},
   "source": [
    "By default the operator has a $+1$ phase factor in the front. To specify other phase factors($\\pm1$ or $\\pm \\mathrm{i}$), use `'+'`, `'-'`, `'i'` indicators before the Pauli string."
   ]
  },
  {
   "cell_type": "code",
   "execution_count": 6,
   "id": "01b259ad",
   "metadata": {},
   "outputs": [
    {
     "data": {
      "text/plain": [
       "( -X, +iX, -iX)"
      ]
     },
     "execution_count": 6,
     "metadata": {},
     "output_type": "execute_result"
    }
   ],
   "source": [
    "pc.pauli('-X'), pc.pauli('iX'), pc.pauli('-iX')"
   ]
  },
  {
   "cell_type": "markdown",
   "id": "3f757018",
   "metadata": {},
   "source": [
    "It is also possible to assign the phase factor by scalar mutiplication."
   ]
  },
  {
   "cell_type": "code",
   "execution_count": 7,
   "id": "42ed3f29",
   "metadata": {},
   "outputs": [
    {
     "data": {
      "text/plain": [
       "( -X, +iX)"
      ]
     },
     "execution_count": 7,
     "metadata": {},
     "output_type": "execute_result"
    }
   ],
   "source": [
    "-pc.pauli('X'), 1j*pc.pauli('X')"
   ]
  },
  {
   "cell_type": "markdown",
   "id": "37a564d7",
   "metadata": {},
   "source": [
    "### Other methods to construct a Pauli operator"
   ]
  },
  {
   "cell_type": "markdown",
   "id": "f2224b07",
   "metadata": {},
   "source": [
    "You can construct a Pauli operator from a tuple / list / array of indices (`0` = `I`, `1` = `X`, `2` = `Y`, `3` = `Z`)"
   ]
  },
  {
   "cell_type": "code",
   "execution_count": 9,
   "id": "20c70a84",
   "metadata": {},
   "outputs": [
    {
     "data": {
      "text/plain": [
       "( +IXYZ,  +IXYZ,  +IXYZ)"
      ]
     },
     "execution_count": 9,
     "metadata": {},
     "output_type": "execute_result"
    }
   ],
   "source": [
    "pc.pauli((0,1,2,3)), pc.pauli([0,1,2,3]), pc.pauli(np.array([0,1,2,3]))"
   ]
  },
  {
   "cell_type": "markdown",
   "id": "d5847344",
   "metadata": {},
   "source": [
    "Or you can construct a Pauli operator from a dictionary that maps positions to indices. (*Note*: using this method must also provide the total number of qubits as the second argument, because the qubit number can not be infered from the dictionary alone.)"
   ]
  },
  {
   "cell_type": "code",
   "execution_count": 10,
   "id": "8cb99c27",
   "metadata": {},
   "outputs": [
    {
     "data": {
      "text/plain": [
       "( +IXIIYZ,  +IXIIYZ)"
      ]
     },
     "execution_count": 10,
     "metadata": {},
     "output_type": "execute_result"
    }
   ],
   "source": [
    "pc.pauli({1:'X', 4:'Y', 5:'Z'}, 6), pc.pauli({1:1, 4:2, 5:3}, 6)"
   ]
  },
  {
   "cell_type": "markdown",
   "id": "a525a398",
   "metadata": {},
   "source": [
    "### Size information"
   ]
  },
  {
   "cell_type": "markdown",
   "id": "4679128b",
   "metadata": {},
   "source": [
    "For Pauli operator, `.N` returns the number of qubits (size of system) that the operator acts on."
   ]
  },
  {
   "cell_type": "code",
   "execution_count": 11,
   "id": "f301b184",
   "metadata": {},
   "outputs": [
    {
     "data": {
      "text/plain": [
       "6"
      ]
     },
     "execution_count": 11,
     "metadata": {},
     "output_type": "execute_result"
    }
   ],
   "source": [
    "pc.pauli('IXYIXI').N"
   ]
  },
  {
   "cell_type": "markdown",
   "id": "8fda9ffa",
   "metadata": {},
   "source": [
    "## Pauli operator list"
   ]
  },
  {
   "cell_type": "markdown",
   "id": "827663b6",
   "metadata": {},
   "source": [
    "A **list of Pauli operators** can be constructed by the `paulis()` constructor."
   ]
  },
  {
   "cell_type": "code",
   "execution_count": 12,
   "id": "1efa6c10",
   "metadata": {},
   "outputs": [
    {
     "data": {
      "text/plain": [
       "+iX\n",
       "-iY\n",
       " +Z"
      ]
     },
     "execution_count": 12,
     "metadata": {},
     "output_type": "execute_result"
    }
   ],
   "source": [
    "pc.paulis('iX', '-iY', 'Z')"
   ]
  },
  {
   "cell_type": "markdown",
   "id": "44ffefc5",
   "metadata": {},
   "source": [
    "It can also take a generator and iterate through its elements to construct a list of Pauli operators."
   ]
  },
  {
   "cell_type": "code",
   "execution_count": 13,
   "id": "68551a8e",
   "metadata": {},
   "outputs": [
    {
     "data": {
      "text/plain": [
       " +ZIII\n",
       " +IZII\n",
       " +IIZI\n",
       " +IIIZ"
      ]
     },
     "execution_count": 13,
     "metadata": {},
     "output_type": "execute_result"
    }
   ],
   "source": [
    "pc.paulis(pc.pauli({i:'Z'}, 4) for i in range(4))"
   ]
  },
  {
   "cell_type": "markdown",
   "id": "ef8b4140",
   "metadata": {},
   "source": [
    "It can also take a iterable (tuple / list / set) and convert it to a list of Pauli operators."
   ]
  },
  {
   "cell_type": "code",
   "execution_count": 14,
   "id": "385527ba",
   "metadata": {},
   "outputs": [
    {
     "data": {
      "text/plain": [
       "+iX\n",
       "-iY\n",
       " +Z"
      ]
     },
     "execution_count": 14,
     "metadata": {},
     "output_type": "execute_result"
    }
   ],
   "source": [
    "lists = ['iX', '-iY', 'Z']\n",
    "pc.paulis(lists)"
   ]
  },
  {
   "cell_type": "markdown",
   "id": "0408e92e",
   "metadata": {},
   "source": [
    "### Size information"
   ]
  },
  {
   "cell_type": "markdown",
   "id": "a6f34c09",
   "metadata": {},
   "source": [
    "For Pauli operator list, `.L` returns the number of operators in the list and `.N` returns of the number fo qubits in the system."
   ]
  },
  {
   "cell_type": "code",
   "execution_count": 15,
   "id": "2cfcc343",
   "metadata": {},
   "outputs": [
    {
     "data": {
      "text/plain": [
       "(4, 2)"
      ]
     },
     "execution_count": 15,
     "metadata": {},
     "output_type": "execute_result"
    }
   ],
   "source": [
    "plst = pc.paulis('II','XX','YY','ZZ')\n",
    "plst.L, plst.N"
   ]
  },
  {
   "cell_type": "markdown",
   "id": "f66987e3",
   "metadata": {},
   "source": [
    "We can also return the number of operators in the list by naive python `len()` function"
   ]
  },
  {
   "cell_type": "code",
   "execution_count": 16,
   "id": "f320e08b",
   "metadata": {},
   "outputs": [
    {
     "data": {
      "text/plain": [
       "4"
      ]
     },
     "execution_count": 16,
     "metadata": {},
     "output_type": "execute_result"
    }
   ],
   "source": [
    "len(plst)"
   ]
  },
  {
   "cell_type": "markdown",
   "id": "383c8019",
   "metadata": {},
   "source": [
    "### Selection and Slicing of Pauli List"
   ]
  },
  {
   "cell_type": "markdown",
   "id": "bb44a1f9",
   "metadata": {},
   "source": [
    "Select a single element in the Pauli operator list."
   ]
  },
  {
   "cell_type": "code",
   "execution_count": 17,
   "id": "ae4044ad",
   "metadata": {},
   "outputs": [
    {
     "data": {
      "text/plain": [
       " +XX"
      ]
     },
     "execution_count": 17,
     "metadata": {},
     "output_type": "execute_result"
    }
   ],
   "source": [
    "plst = pc.paulis('II','XX','YY','ZZ')\n",
    "plst[1]"
   ]
  },
  {
   "cell_type": "markdown",
   "id": "0471147a",
   "metadata": {},
   "source": [
    "Select a range of operators in the Pauli operator list: the slicing is the same as python array"
   ]
  },
  {
   "cell_type": "code",
   "execution_count": 18,
   "id": "28d3a96a",
   "metadata": {},
   "outputs": [
    {
     "data": {
      "text/plain": [
       " +II\n",
       " +XX\n",
       " +YY"
      ]
     },
     "execution_count": 18,
     "metadata": {},
     "output_type": "execute_result"
    }
   ],
   "source": [
    "plst[0:3]"
   ]
  },
  {
   "cell_type": "markdown",
   "id": "9d4a0203",
   "metadata": {},
   "source": [
    "It is also allow to be selected by a index array or a boolean mask."
   ]
  },
  {
   "cell_type": "code",
   "execution_count": 19,
   "id": "46ca0496",
   "metadata": {},
   "outputs": [
    {
     "data": {
      "text/plain": [
       " +YY\n",
       " +XX\n",
       " +XX\n",
       " +II\n",
       " +ZZ"
      ]
     },
     "execution_count": 19,
     "metadata": {},
     "output_type": "execute_result"
    }
   ],
   "source": [
    "plst[np.array([2,1,1,0,3])]"
   ]
  },
  {
   "cell_type": "code",
   "execution_count": 20,
   "id": "4560686b",
   "metadata": {},
   "outputs": [
    {
     "data": {
      "text/plain": [
       " +II\n",
       " +ZZ"
      ]
     },
     "execution_count": 20,
     "metadata": {},
     "output_type": "execute_result"
    }
   ],
   "source": [
    "plst[np.array([True,False,False,True])]"
   ]
  },
  {
   "cell_type": "markdown",
   "id": "06493e8f",
   "metadata": {},
   "source": [
    "## Pauli Polynomials"
   ]
  },
  {
   "cell_type": "markdown",
   "id": "bb815ad7",
   "metadata": {},
   "source": [
    "Pauli operators can be linearly combined in to a **Pauli polynomial**."
   ]
  },
  {
   "cell_type": "code",
   "execution_count": 22,
   "id": "033210ae",
   "metadata": {},
   "outputs": [
    {
     "data": {
      "text/plain": [
       "-0.50 ZZ +1 XX +1 YY"
      ]
     },
     "execution_count": 22,
     "metadata": {},
     "output_type": "execute_result"
    }
   ],
   "source": [
    "pc.pauli('XX') + pc.pauli('YY') - 0.5 * pc.pauli('ZZ')"
   ]
  },
  {
   "cell_type": "markdown",
   "id": "ae0c5876",
   "metadata": {},
   "source": [
    "<div class=\"alert alert-block alert-success\">\n",
    "Adding Pauli operators with any number, the number will be promoted to the number times identity operator automatically. For example, a projection operator can be written as\n",
    "</div>"
   ]
  },
  {
   "cell_type": "code",
   "execution_count": 23,
   "id": "45589f0c",
   "metadata": {},
   "outputs": [
    {
     "data": {
      "text/plain": [
       "0.50 II +0.50 ZZ"
      ]
     },
     "execution_count": 23,
     "metadata": {},
     "output_type": "execute_result"
    }
   ],
   "source": [
    "(pc.pauli('ZZ') + 1)/2"
   ]
  },
  {
   "cell_type": "markdown",
   "id": "539dd9da",
   "metadata": {},
   "source": [
    "Operators can be summed up with python built-in function `sum()`."
   ]
  },
  {
   "cell_type": "code",
   "execution_count": 25,
   "id": "f4554c81",
   "metadata": {},
   "outputs": [
    {
     "data": {
      "text/plain": [
       "1 II +1 ZZ +1 XX +1 YY"
      ]
     },
     "execution_count": 25,
     "metadata": {},
     "output_type": "execute_result"
    }
   ],
   "source": [
    "sum(pc.paulis('II','XX','YY','ZZ'))"
   ]
  },
  {
   "cell_type": "markdown",
   "id": "adeeafd2",
   "metadata": {},
   "source": [
    "## Pauli Algebra"
   ]
  },
  {
   "cell_type": "markdown",
   "id": "5884d81f",
   "metadata": {},
   "source": [
    "### Dot Productor (Matrix Multiplication)"
   ]
  },
  {
   "cell_type": "markdown",
   "id": "bf88dbda",
   "metadata": {},
   "source": [
    "Dot productor (composition) of Pauli operators is implemented as the matrix multiplication `matmul`, which can be implemented using the operand `@`."
   ]
  },
  {
   "cell_type": "code",
   "execution_count": 26,
   "id": "db13884b",
   "metadata": {},
   "outputs": [
    {
     "data": {
      "text/plain": [
       "(+iZ, -iZ)"
      ]
     },
     "execution_count": 26,
     "metadata": {},
     "output_type": "execute_result"
    }
   ],
   "source": [
    "pc.pauli('X') @ pc.pauli('Y'), pc.pauli('Y') @ pc.pauli('X')"
   ]
  },
  {
   "cell_type": "markdown",
   "id": "5d39a102",
   "metadata": {},
   "source": [
    "Dot product of Pauli polynomials will be expanded."
   ]
  },
  {
   "cell_type": "code",
   "execution_count": 27,
   "id": "cb5c369c",
   "metadata": {},
   "outputs": [
    {
     "data": {
      "text/plain": [
       "0.25 II +0.50 YY +0.50 XX +0.50 YY +1 II -1 ZZ +0.50 XX -1 ZZ +1 II"
      ]
     },
     "execution_count": 27,
     "metadata": {},
     "output_type": "execute_result"
    }
   ],
   "source": [
    "poly = pc.pauli('XX') + pc.pauli('YY') - 0.5 * pc.pauli('ZZ')\n",
    "poly @ poly"
   ]
  },
  {
   "cell_type": "markdown",
   "id": "e45e08b5",
   "metadata": {},
   "source": [
    "Terms will not be combined automatically. To combine them, the `.reduce()` method should be explicitly called."
   ]
  },
  {
   "cell_type": "code",
   "execution_count": 28,
   "id": "211a9a33",
   "metadata": {},
   "outputs": [
    {
     "data": {
      "text/plain": [
       "2.25 II -2 ZZ +1 XX +1 YY"
      ]
     },
     "execution_count": 28,
     "metadata": {},
     "output_type": "execute_result"
    }
   ],
   "source": [
    "(poly @ poly).reduce()"
   ]
  },
  {
   "cell_type": "markdown",
   "id": "708369bc",
   "metadata": {},
   "source": [
    "### Trace of Pauli operators"
   ]
  },
  {
   "cell_type": "markdown",
   "id": "09cf70af",
   "metadata": {},
   "source": [
    "- `Pauli.trace()` will return the trace of a Pauli operator\n",
    " - `PauliList.trace()` will return the trace of a list of Pauli operators\n",
    " - `PauliPolynomial.trace()` will return the trace of a Pauli polynomial"
   ]
  },
  {
   "cell_type": "code",
   "execution_count": 30,
   "id": "93fe8488",
   "metadata": {},
   "outputs": [
    {
     "data": {
      "text/plain": [
       "(24+10j)"
      ]
     },
     "execution_count": 30,
     "metadata": {},
     "output_type": "execute_result"
    }
   ],
   "source": [
    "(3*pc.pauli('II')+(3+2.5j)*pc.pauli('II')).trace()"
   ]
  },
  {
   "cell_type": "markdown",
   "id": "540474e0",
   "metadata": {},
   "source": [
    "### Weight (number of non-identity support)"
   ]
  },
  {
   "cell_type": "code",
   "execution_count": 31,
   "id": "ff7f2d6a",
   "metadata": {},
   "outputs": [
    {
     "data": {
      "text/plain": [
       "3"
      ]
     },
     "execution_count": 31,
     "metadata": {},
     "output_type": "execute_result"
    }
   ],
   "source": [
    "pc.pauli('IXIYZII').weight()"
   ]
  },
  {
   "cell_type": "code",
   "execution_count": 32,
   "id": "2bd7af91",
   "metadata": {},
   "outputs": [
    {
     "data": {
      "text/plain": [
       "array([3, 1])"
      ]
     },
     "execution_count": 32,
     "metadata": {},
     "output_type": "execute_result"
    }
   ],
   "source": [
    "pc.paulis('IXIYZII','IXIIIII').weight()"
   ]
  },
  {
   "cell_type": "markdown",
   "id": "d319115c",
   "metadata": {},
   "source": [
    "### Type conversion"
   ]
  },
  {
   "cell_type": "markdown",
   "id": "84f82a66",
   "metadata": {},
   "source": [
    "Automatic type conversion enables the algebra to be carried out among different classes with great flexibiliity.\n",
    "* When `Pauli` is multiplied (`*`) by a generic number (beyond powers of the imaginary unit), it is converted to `PauliMonomial`.\n",
    "* When `Pauli` or `PauliMonomial` is added (`+`) or subtracted (`-`) with other Pauli objects, they are converted to `PauliPolynomial`.\n",
    "* The dot product (`@`) generally returns `PauliPolynomial`, unless the two Pauli objects are both `Pauli`, in which case it returns `Pauli`."
   ]
  },
  {
   "cell_type": "markdown",
   "id": "f3b5e92d",
   "metadata": {},
   "source": [
    "## Clifford Transformation"
   ]
  },
  {
   "cell_type": "markdown",
   "id": "24937bdb",
   "metadata": {},
   "source": [
    " `PauliList` provides useful methods to implement Clifford transformations efficiently on all Pauli operators together. The same methods are available to all its subclasses (including `PauliPolynomial`, `CliffordMap`, `StabilizerState`)."
   ]
  },
  {
   "cell_type": "markdown",
   "id": "c3c657b7",
   "metadata": {},
   "source": [
    "### Clifford Rotation"
   ]
  },
  {
   "cell_type": "markdown",
   "id": "9988a867",
   "metadata": {},
   "source": [
    "A Clifford rotation is a $\\mathbb{Z}_4$ rotation in the Clifford group generated by a single Pauli operator, which takes the form of\n",
    "$$\n",
    "U=e^{\\frac{i\\pi}{4}\\sigma}=\\frac{1}{\\sqrt{2}}(1+i \\sigma)\n",
    "$$\n",
    "Every Pauli operator is transformed by $\\sigma \\to U^\\dagger \\sigma U$. The Clifford rotation can be applied by the method `.rotate_by(gen)` (given the generator `gen`). The operation is in-place (meaning that the operators in the Pauli list will be modified)."
   ]
  },
  {
   "cell_type": "code",
   "execution_count": 33,
   "id": "e8e8fcf7",
   "metadata": {},
   "outputs": [
    {
     "data": {
      "text/plain": [
       " +II\n",
       " +XX\n",
       " +ZY\n",
       " -YZ"
      ]
     },
     "execution_count": 33,
     "metadata": {},
     "output_type": "execute_result"
    }
   ],
   "source": [
    "pc.paulis('II','XX','YY','ZZ').rotate_by(pc.pauli('XI'))"
   ]
  },
  {
   "cell_type": "markdown",
   "id": "43fedda1",
   "metadata": {},
   "source": [
    "### Clifford Map"
   ]
  },
  {
   "cell_type": "markdown",
   "id": "af8f082b",
   "metadata": {},
   "source": [
    "A Clifford map is a generic clifford transformation by specifying how each single Pauli operator gets mapped to. It can be listed as a table"
   ]
  },
  {
   "cell_type": "code",
   "execution_count": 36,
   "id": "0f27f8f6",
   "metadata": {},
   "outputs": [
    {
     "data": {
      "text/plain": [
       "CliffordMap(\n",
       "  X0-> +ZX\n",
       "  Z0-> -ZZ\n",
       "  X1-> +YY\n",
       "  Z1-> +XY)"
      ]
     },
     "execution_count": 36,
     "metadata": {},
     "output_type": "execute_result"
    }
   ],
   "source": [
    "cmap = pc.random_clifford_map(2)\n",
    "cmap"
   ]
  },
  {
   "cell_type": "markdown",
   "id": "33c2a7cc",
   "metadata": {},
   "source": [
    "It can be applied by the method `.transform_by(cmap)` (given the Clifford map `cmap`). "
   ]
  },
  {
   "cell_type": "code",
   "execution_count": 37,
   "id": "942191d0",
   "metadata": {},
   "outputs": [
    {
     "data": {
      "text/plain": [
       " +II\n",
       " +XZ\n",
       " -ZY\n",
       " -YX"
      ]
     },
     "execution_count": 37,
     "metadata": {},
     "output_type": "execute_result"
    }
   ],
   "source": [
    "pc.paulis('II','XX','YY','ZZ').transform_by(cmap)"
   ]
  },
  {
   "cell_type": "markdown",
   "id": "eae712c2",
   "metadata": {},
   "source": [
    "### Masked Transformation"
   ]
  },
  {
   "cell_type": "markdown",
   "id": "08be8af8",
   "metadata": {},
   "source": [
    "Clifford transformation can be applied to a subsystem of qubits specified by a mask."
   ]
  },
  {
   "cell_type": "code",
   "execution_count": 38,
   "id": "788a3e94",
   "metadata": {},
   "outputs": [
    {
     "data": {
      "text/plain": [
       " +IIII\n",
       " -IXXZ\n",
       " +ZYYI\n",
       " +ZZZZ"
      ]
     },
     "execution_count": 38,
     "metadata": {},
     "output_type": "execute_result"
    }
   ],
   "source": [
    "mask = np.array([True,False,False,True])\n",
    "pc.paulis('IIII','XXXX','YYYY','ZZZZ').rotate_by(pc.pauli('XY'), mask)"
   ]
  },
  {
   "cell_type": "code",
   "execution_count": 39,
   "id": "f6cf8ffa",
   "metadata": {},
   "outputs": [
    {
     "data": {
      "text/plain": [
       " +IIII\n",
       " +XXXZ\n",
       " -ZYYY\n",
       " -YZZX"
      ]
     },
     "execution_count": 39,
     "metadata": {},
     "output_type": "execute_result"
    }
   ],
   "source": [
    "mask = np.array([True,False,False,True])\n",
    "pc.paulis('IIII','XXXX','YYYY','ZZZZ').transform_by(cmap, mask)"
   ]
  },
  {
   "cell_type": "markdown",
   "id": "f3a2061e",
   "metadata": {},
   "source": [
    "## Export to Numpy Array"
   ]
  },
  {
   "cell_type": "markdown",
   "id": "d0afb5e6",
   "metadata": {},
   "source": [
    "Pauli operators can be easily converted to the `Qobj` in qutip library\n",
    "- `Pauli.to_numpy()`\n",
    "- `PauliList.to_numpy()`\n",
    "- `PauliMonomial.to_numpy()`\n",
    "- `PauliPolynomial.to_numpy()`"
   ]
  },
  {
   "cell_type": "code",
   "execution_count": 4,
   "id": "9721f62b",
   "metadata": {},
   "outputs": [
    {
     "data": {
      "text/plain": [
       "array([[0.+0.j, 0.+0.j, 0.+0.j, 0.-1.j],\n",
       "       [0.+0.j, 0.+0.j, 0.+1.j, 0.+0.j],\n",
       "       [0.+0.j, 0.-1.j, 0.+0.j, 0.+0.j],\n",
       "       [0.+1.j, 0.+0.j, 0.+0.j, 0.+0.j]])"
      ]
     },
     "execution_count": 4,
     "metadata": {},
     "output_type": "execute_result"
    }
   ],
   "source": [
    "pc.pauli('XY').to_numpy()"
   ]
  },
  {
   "cell_type": "code",
   "execution_count": 5,
   "id": "74d15e1e",
   "metadata": {},
   "outputs": [
    {
     "data": {
      "text/plain": [
       "array([[[ 0.+0.j,  0.+0.j,  0.+0.j,  0.-1.j],\n",
       "        [ 0.+0.j,  0.+0.j,  0.+1.j,  0.+0.j],\n",
       "        [ 0.+0.j,  0.-1.j,  0.+0.j,  0.+0.j],\n",
       "        [ 0.+1.j,  0.+0.j,  0.+0.j,  0.+0.j]],\n",
       "\n",
       "       [[ 1.+0.j,  0.+0.j,  0.+0.j,  0.+0.j],\n",
       "        [ 0.+0.j, -1.+0.j,  0.+0.j, -0.+0.j],\n",
       "        [ 0.+0.j,  0.+0.j, -1.+0.j, -0.+0.j],\n",
       "        [ 0.+0.j, -0.+0.j, -0.+0.j,  1.+0.j]]])"
      ]
     },
     "execution_count": 5,
     "metadata": {},
     "output_type": "execute_result"
    }
   ],
   "source": [
    "pc.paulis('XY','ZZ').to_numpy()"
   ]
  },
  {
   "cell_type": "code",
   "execution_count": 6,
   "id": "8587be70",
   "metadata": {},
   "outputs": [
    {
     "data": {
      "text/plain": [
       "array([[ 0.+0.j,  0.+0.j,  0.+0.j,  3.-2.j],\n",
       "       [ 0.+0.j,  0.+0.j, -3.+2.j,  0.+0.j],\n",
       "       [ 0.+0.j,  3.-2.j,  0.+0.j,  0.+0.j],\n",
       "       [-3.+2.j,  0.+0.j,  0.+0.j,  0.+0.j]])"
      ]
     },
     "execution_count": 6,
     "metadata": {},
     "output_type": "execute_result"
    }
   ],
   "source": [
    "((2+3j)*pc.pauli('XY')).to_numpy()"
   ]
  },
  {
   "cell_type": "code",
   "execution_count": null,
   "id": "4a0c6c95",
   "metadata": {},
   "outputs": [],
   "source": []
  }
 ],
 "metadata": {
  "kernelspec": {
   "display_name": "pyclifford",
   "language": "python",
   "name": "python3"
  },
  "language_info": {
   "codemirror_mode": {
    "name": "ipython",
    "version": 3
   },
   "file_extension": ".py",
   "mimetype": "text/x-python",
   "name": "python",
   "nbconvert_exporter": "python",
   "pygments_lexer": "ipython3",
   "version": "3.11.8"
  }
 },
 "nbformat": 4,
 "nbformat_minor": 5
}
