{
 "cells": [
  {
   "cell_type": "code",
   "execution_count": 160,
   "id": "fe99052e-894e-435b-9aed-bc0d98c93bf9",
   "metadata": {},
   "outputs": [
    {
     "name": "stdout",
     "output_type": "stream",
     "text": [
      "The autoreload extension is already loaded. To reload it, use:\n",
      "  %reload_ext autoreload\n"
     ]
    }
   ],
   "source": [
    "# will autoupdate any of the packages imported:\n",
    "%load_ext autoreload\n",
    "%autoreload 2\n",
    "%matplotlib inline"
   ]
  },
  {
   "cell_type": "code",
   "execution_count": 161,
   "id": "7d62129d-4284-461f-99a6-38e40452ba6d",
   "metadata": {},
   "outputs": [],
   "source": [
    "import sys\n",
    "sys.path.insert(0, '..')\n",
    "import numpy as np\n",
    "import matplotlib.pyplot as plt\n",
    "import pyclifford as pc\n",
    "import time"
   ]
  },
  {
   "cell_type": "code",
   "execution_count": 8,
   "id": "13436bca-8a27-47d4-9f5d-807f6fe15345",
   "metadata": {},
   "outputs": [],
   "source": [
    "import seaborn as sns\n",
    "sns.set_theme()"
   ]
  },
  {
   "cell_type": "code",
   "execution_count": 71,
   "id": "92340522-cb1a-48f4-a7ae-5054f3ce108c",
   "metadata": {},
   "outputs": [],
   "source": [
    "from numba import njit"
   ]
  },
  {
   "cell_type": "markdown",
   "id": "df936ce5-68be-4953-abd7-447781821cc4",
   "metadata": {},
   "source": [
    "# Global Clifford classical shadow tomography"
   ]
  },
  {
   "cell_type": "code",
   "execution_count": null,
   "id": "24397c56-2512-465a-8501-1c3facc49cfc",
   "metadata": {},
   "outputs": [],
   "source": []
  },
  {
   "cell_type": "code",
   "execution_count": 166,
   "id": "5d0bd8a2-ea38-4b77-b5d4-673e83a1c238",
   "metadata": {},
   "outputs": [],
   "source": [
    "N = 300\n",
    "classical_shadows = []\n",
    "num_of_shadow = 1000"
   ]
  },
  {
   "cell_type": "code",
   "execution_count": 167,
   "id": "848455c2-1e5a-4b80-89b3-245b97dd139b",
   "metadata": {},
   "outputs": [],
   "source": [
    "circ = pc.Circuit(N)\n",
    "# Create global Clifford random gate\n",
    "circ.gate(*[i for i in range(N)])\n",
    "for povm in circ.povm(num_of_shadow):\n",
    "    state = pc.ghz_state(N)\n",
    "    state.measure(povm)\n",
    "    classical_shadows.append(state)"
   ]
  },
  {
   "cell_type": "code",
   "execution_count": 163,
   "id": "59d00321-eae6-467f-9be6-c4479137a9c5",
   "metadata": {},
   "outputs": [],
   "source": [
    "fidelity_predictions = []"
   ]
  },
  {
   "cell_type": "code",
   "execution_count": 164,
   "id": "dfceff8d-9a16-42e9-9e8c-575f366f3590",
   "metadata": {},
   "outputs": [],
   "source": [
    "for shadow in classical_shadows:\n",
    "    fidelity_predictions.append(shadow.expect(pc.ghz_state(N))*(2**N)-1)"
   ]
  },
  {
   "cell_type": "code",
   "execution_count": 165,
   "id": "36ace162-4af5-4335-b1cd-981898a6bdcf",
   "metadata": {},
   "outputs": [
    {
     "data": {
      "text/plain": [
       "Text(0.5, 1.0, '300 qubit GHZ state')"
      ]
     },
     "execution_count": 165,
     "metadata": {},
     "output_type": "execute_result"
    },
    {
     "data": {
      "image/png": "[encoded data removed]",
      "text/plain": [
       "<Figure size 432x288 with 1 Axes>"
      ]
     },
     "metadata": {
      "needs_background": "light"
     },
     "output_type": "display_data"
    }
   ],
   "source": [
    "plt.errorbar(x = 0,y = np.mean(np.array(fidelity_predictions)),\\\n",
    "             yerr=np.std(np.array(fidelity_predictions))/np.sqrt(1000),capsize = 5)\n",
    "plt.scatter(x = 0,y = np.mean(np.array(fidelity_predictions)),s= 60,)\n",
    "plt.ylim([0.5,1.1])\n",
    "plt.plot(np.linspace(-0.05,0.05,20),np.ones(20),\"k--\",alpha = 0.6)\n",
    "plt.ylabel(\"Reconstructed Fidelity\",fontsize = 15)\n",
    "plt.title(\"300 qubit GHZ state\",fontsize = 15)"
   ]
  },
  {
   "cell_type": "markdown",
   "id": "6a8f34f7-fa5b-4f9c-9a81-80f8a5215b65",
   "metadata": {},
   "source": [
    "# Shallow Circuit Shadow Classical"
   ]
  },
  {
   "cell_type": "markdown",
   "id": "7ff8b004-85a8-4cb8-8d3b-ea0f3a740af6",
   "metadata": {},
   "source": [
    "Let's study the classical shadow tomography with finite depth brick wall circuit. "
   ]
  },
  {
   "cell_type": "markdown",
   "id": "36d8d528-c5c7-4a73-a21c-4a85dac7dd46",
   "metadata": {},
   "source": [
    "The reconstruction map has been studied under the formulation of locally scrambled classical shadow tomography."
   ]
  },
  {
   "cell_type": "markdown",
   "id": "596342b9-9a75-40b4-99c2-6d829d093c9d",
   "metadata": {},
   "source": [
    "First, let's get Pauli weights. By definition,"
   ]
  },
  {
   "cell_type": "markdown",
   "id": "2e76f6b9-7dca-4e5d-9475-2555ef58c5ac",
   "metadata": {},
   "source": [
    "$\n",
    "W(\\vec{a})=\\underset{U}{\\mathbb{E}}\\underset{b}{\\mathbb{E}}|U^{\\dagger}|b\\rangle \\langle b|U P_{\\vec{a}}|^2\n",
    "$"
   ]
  },
  {
   "cell_type": "markdown",
   "id": "3b187101-2d5b-46bf-9d83-6475c85949d6",
   "metadata": {},
   "source": [
    "Another we to get the Pauli weights is through experimental calibration:"
   ]
  },
  {
   "cell_type": "markdown",
   "id": "d67e66b5-3e1f-4dce-b71f-c1cb19a59d76",
   "metadata": {},
   "source": [
    "$W(\\vec{a})=2^N\\dfrac{\\mathbb{E}\\text{Tr}(\\hat{\\sigma}P_{\\vec{a}})}{\\text{Tr}(\\rho P_{\\vec{a}})}$"
   ]
  },
  {
   "cell_type": "markdown",
   "id": "dfb62d27-85c6-456f-8dd2-6e423f994aa7",
   "metadata": {},
   "source": [
    "## Random Pauli measurement"
   ]
  },
  {
   "cell_type": "code",
   "execution_count": 67,
   "id": "4e5d2d0a-3a4c-4d50-a4db-e3d5da3de701",
   "metadata": {},
   "outputs": [],
   "source": [
    "N2 = 10"
   ]
  },
  {
   "cell_type": "code",
   "execution_count": 72,
   "id": "57e8d289-268f-43d3-a583-e483af3755db",
   "metadata": {},
   "outputs": [],
   "source": [
    "X = pc.pauli([1]+[0 for _ in range(N2-1)])\n",
    "Z = pc.pauli([3]+[0 for _ in range(N2-1)])\n",
    "XX = pc.pauli([1,1]+[0 for _ in range(N2-2)])\n",
    "ZZ = pc.pauli([3,3]+[0 for _ in range(N2-2)])"
   ]
  },
  {
   "cell_type": "code",
   "execution_count": 68,
   "id": "a2233aaf-e52a-4e16-9fc3-aa71349b9e6f",
   "metadata": {},
   "outputs": [],
   "source": [
    "def brickwall_circuit(N,depth):\n",
    "    circ = pc.circuit.Circuit(N)\n",
    "    for d in range(depth):\n",
    "        for ii in range(int(N//2)):\n",
    "            circ.gate(2*ii,2*ii+1)\n",
    "        for ii in range(int(N//2)):\n",
    "            circ.gate((2*ii+1),(2*ii+2)%N)\n",
    "    return circ"
   ]
  },
  {
   "cell_type": "code",
   "execution_count": 69,
   "id": "2b3ed0b0-0f4b-4295-96c3-2f0cdb9009da",
   "metadata": {},
   "outputs": [],
   "source": [
    "def random_pauli_circuit(N):\n",
    "    circ = pc.circuit.Circuit(N)\n",
    "    for ii in range(N):\n",
    "        circ.gate(ii)\n",
    "    return circ"
   ]
  },
  {
   "cell_type": "code",
   "execution_count": 88,
   "id": "b2c2480c-abdf-4346-ab9f-ed20e0a8df75",
   "metadata": {},
   "outputs": [],
   "source": [
    "circ = random_pauli_circuit(N2)\n",
    "classical_shadows2 = []\n",
    "num_of_shadow = 10000\n",
    "for povm in circ.povm(num_of_shadow):\n",
    "    state = pc.stabilizer.zero_state(N2)\n",
    "    state.measure(povm)\n",
    "    classical_shadows2.append(state)"
   ]
  },
  {
   "cell_type": "code",
   "execution_count": 102,
   "id": "7f0c447a-8e53-4e3b-9ee0-b80509d4eb1f",
   "metadata": {},
   "outputs": [],
   "source": [
    "Wz_lst = []\n",
    "for i in range(num_of_shadow):\n",
    "    Wz_lst.append(np.real(classical_shadows2[i].expect(Z)))\n",
    "Wzz_lst = []\n",
    "for i in range(num_of_shadow):\n",
    "    Wzz_lst.append(np.real(classical_shadows2[i].expect(ZZ)))\n",
    "Wx_lst = []\n",
    "for i in range(num_of_shadow):\n",
    "    Wx_lst.append(np.real(classical_shadows2[i].expect(X)))"
   ]
  },
  {
   "cell_type": "code",
   "execution_count": 103,
   "id": "ff3e747a-f5d7-4e89-a40d-af88b385f5b4",
   "metadata": {},
   "outputs": [],
   "source": [
    "Wz = (2**N2)*np.mean(np.array(Wz_lst))\n",
    "Wzz = (2**N2)*np.mean(np.array(Wzz_lst))"
   ]
  },
  {
   "cell_type": "code",
   "execution_count": 105,
   "id": "1b610763-66a0-47c9-99e8-d3bca2a87945",
   "metadata": {},
   "outputs": [],
   "source": [
    "circ = random_pauli_circuit(N2)\n",
    "classical_shadows_test = []\n",
    "num_of_shadow = 1000\n",
    "for povm in circ.povm(num_of_shadow):\n",
    "    state = pc.stabilizer.ghz_state(N2)\n",
    "    state.measure(povm)\n",
    "    classical_shadows_test.append(state)"
   ]
  },
  {
   "cell_type": "markdown",
   "id": "a3abac2c-9c04-4da9-8c18-3832d233a75d",
   "metadata": {},
   "source": [
    "Predict ZZ operator:"
   ]
  },
  {
   "cell_type": "code",
   "execution_count": 110,
   "id": "4af83f54-80de-4305-9221-3fe4574800e0",
   "metadata": {},
   "outputs": [],
   "source": [
    "predict_zzs = []\n",
    "for i in range(len(classical_shadows_test)):\n",
    "    predict_zzs.append(np.real(classical_shadows_test[i].expect(ZZ)))\n",
    "predict_zs = []\n",
    "for i in range(len(classical_shadows_test)):\n",
    "    predict_zs.append(np.real(classical_shadows_test[i].expect(Z)))"
   ]
  },
  {
   "cell_type": "code",
   "execution_count": 109,
   "id": "7b01ab67-ae54-439a-8610-d9fff2bab0fe",
   "metadata": {},
   "outputs": [
    {
     "data": {
      "text/plain": [
       "0.954954954954955"
      ]
     },
     "execution_count": 109,
     "metadata": {},
     "output_type": "execute_result"
    }
   ],
   "source": [
    "np.mean(np.array(predict_zzs))*(2**N2)/Wzz"
   ]
  },
  {
   "cell_type": "code",
   "execution_count": 118,
   "id": "aef9f6f6-c6a2-4f1a-9dda-e7954ce0867a",
   "metadata": {},
   "outputs": [
    {
     "data": {
      "text/plain": [
       "Text(0.5, 1.0, '10 qubit GHZ state (randomized Pauli measurement)')"
      ]
     },
     "execution_count": 118,
     "metadata": {},
     "output_type": "execute_result"
    },
    {
     "data": {
      "image/png": "[encoded data removed]",
      "text/plain": [
       "<Figure size 432x288 with 1 Axes>"
      ]
     },
     "metadata": {},
     "output_type": "display_data"
    }
   ],
   "source": [
    "plt.errorbar(x = 1,y = np.mean(np.array(predict_zs))*(2**N2)/Wz,\\\n",
    "             yerr=np.std(np.array(predict_zs))*(2**N2)/(Wz*np.sqrt(1000)),capsize = 5)\n",
    "plt.scatter(x = 1,y = np.mean(np.array(predict_zs))*(2**N2)/Wz,s= 60,)\n",
    "plt.errorbar(x = 2,y = np.mean(np.array(predict_zzs))*(2**N2)/Wzz,\\\n",
    "             yerr=np.std(np.array(predict_zzs))*(2**N2)/(Wzz*np.sqrt(1000)),capsize = 5)\n",
    "plt.scatter(x = 2,y = np.mean(np.array(predict_zzs))*(2**N2)/Wzz,s= 60,)\n",
    "\n",
    "# plt.ylim([0.8,1.1])\n",
    "# plt.plot(np.linspace(-0.05,0.05,20),np.ones(20),\"k--\",alpha = 0.6)\n",
    "plt.xlabel(r\"$k$\",fontsize = 15)\n",
    "plt.ylabel(r\"$\\langle Z^{\\otimes k}\\rangle$\",fontsize = 15)\n",
    "plt.title(\"10 qubit GHZ state (randomized Pauli measurement)\",fontsize = 15)"
   ]
  },
  {
   "cell_type": "markdown",
   "id": "66e4b994-a6b0-4fee-8ed3-b7488339aa2a",
   "metadata": {},
   "source": [
    "## Shallow layer brickwall circuit"
   ]
  },
  {
   "cell_type": "code",
   "execution_count": 135,
   "id": "f17c08be-618e-48c2-87eb-122701786776",
   "metadata": {},
   "outputs": [],
   "source": [
    "circ = brickwall_circuit(N2,3)\n",
    "classical_shadows3 = []\n",
    "num_of_shadow = 50000\n",
    "for povm in circ.povm(num_of_shadow):\n",
    "    state = pc.stabilizer.zero_state(N2)\n",
    "    state.measure(povm)\n",
    "    classical_shadows3.append(state)"
   ]
  },
  {
   "cell_type": "code",
   "execution_count": 136,
   "id": "c73af6db-a9e1-4369-9fe4-258d313b3a36",
   "metadata": {},
   "outputs": [],
   "source": [
    "Wz_lst = []\n",
    "for i in range(num_of_shadow):\n",
    "    Wz_lst.append(np.real(classical_shadows3[i].expect(Z)))\n",
    "Wzz_lst = []\n",
    "for i in range(num_of_shadow):\n",
    "    Wzz_lst.append(np.real(classical_shadows3[i].expect(ZZ)))"
   ]
  },
  {
   "cell_type": "code",
   "execution_count": 144,
   "id": "2a082dec-ab98-408d-a8d8-db311443277a",
   "metadata": {},
   "outputs": [],
   "source": [
    "circ = brickwall_circuit(N2,3)\n",
    "classical_shadows_test = []\n",
    "num_of_shadow = 10000\n",
    "for povm in circ.povm(num_of_shadow):\n",
    "    state = pc.stabilizer.ghz_state(N2)\n",
    "    state.measure(povm)\n",
    "    classical_shadows_test.append(state)"
   ]
  },
  {
   "cell_type": "code",
   "execution_count": 145,
   "id": "ab731231-10f6-432f-98a2-3b34eb54ea8b",
   "metadata": {},
   "outputs": [],
   "source": [
    "predict_zzs = []\n",
    "for i in range(len(classical_shadows_test)):\n",
    "    predict_zzs.append(np.real(classical_shadows_test[i].expect(ZZ)))\n",
    "predict_zs = []\n",
    "for i in range(len(classical_shadows_test)):\n",
    "    predict_zs.append(np.real(classical_shadows_test[i].expect(Z)))"
   ]
  },
  {
   "cell_type": "code",
   "execution_count": 148,
   "id": "f964117c-2ae5-4775-b122-760f6205e476",
   "metadata": {},
   "outputs": [
    {
     "data": {
      "text/plain": [
       "Text(0.5, 1.0, '10 qubit GHZ state (3 layer brickwall circuit)')"
      ]
     },
     "execution_count": 148,
     "metadata": {},
     "output_type": "execute_result"
    },
    {
     "data": {
      "image/png": "[encoded data removed]",
      "text/plain": [
       "<Figure size 432x288 with 1 Axes>"
      ]
     },
     "metadata": {},
     "output_type": "display_data"
    }
   ],
   "source": [
    "plt.errorbar(x = 1,y = np.mean(np.array(predict_zs))*(2**N2)/Wz,\\\n",
    "             yerr=np.std(np.array(predict_zs))*(2**N2)/(Wz*np.sqrt(5000)),capsize = 5)\n",
    "plt.scatter(x = 1,y = np.mean(np.array(predict_zs))*(2**N2)/Wz,s= 60,)\n",
    "plt.errorbar(x = 2,y = np.mean(np.array(predict_zzs))*(2**N2)/Wzz,\\\n",
    "             yerr=np.std(np.array(predict_zzs))*(2**N2)/(Wzz*np.sqrt(5000)),capsize = 5)\n",
    "plt.scatter(x = 2,y = np.mean(np.array(predict_zzs))*(2**N2)/Wzz,s= 60,)\n",
    "\n",
    "# plt.ylim([0.8,1.1])\n",
    "# plt.plot(np.linspace(-0.05,0.05,20),np.ones(20),\"k--\",alpha = 0.6)\n",
    "plt.xlabel(r\"$k$\",fontsize = 15)\n",
    "plt.ylabel(r\"$\\langle Z^{\\otimes k}\\rangle$\",fontsize = 15)\n",
    "plt.title(\"10 qubit GHZ state (3 layer brickwall circuit)\",fontsize = 15)"
   ]
  },
  {
   "cell_type": "code",
   "execution_count": null,
   "id": "b3e73f8a-d32e-49db-8112-47b5e04d6fef",
   "metadata": {},
   "outputs": [],
   "source": []
  },
  {
   "cell_type": "code",
   "execution_count": null,
   "id": "aabb18a6-c200-44b1-8ec2-6c83ab1bcca9",
   "metadata": {},
   "outputs": [],
   "source": []
  },
  {
   "cell_type": "code",
   "execution_count": null,
   "id": "9188ba9f-43de-4614-9f4d-0f4b03f565d7",
   "metadata": {},
   "outputs": [],
   "source": []
  },
  {
   "cell_type": "code",
   "execution_count": null,
   "id": "2d458ca5-7f9a-43fb-ae1e-55ca05e5b62e",
   "metadata": {},
   "outputs": [],
   "source": []
  },
  {
   "cell_type": "code",
   "execution_count": null,
   "id": "4741a379-922f-4d57-9fe0-46d09b9bf840",
   "metadata": {},
   "outputs": [],
   "source": []
  },
  {
   "cell_type": "code",
   "execution_count": null,
   "id": "45c5b8ae-0852-4d01-9454-98ee6d5474f4",
   "metadata": {},
   "outputs": [],
   "source": []
  },
  {
   "cell_type": "markdown",
   "id": "d40f5729-bff3-403c-a7b3-2ff4cf70a4a7",
   "metadata": {
    "jp-MarkdownHeadingCollapsed": true,
    "tags": []
   },
   "source": [
    "# Test"
   ]
  },
  {
   "cell_type": "code",
   "execution_count": 62,
   "id": "70627d3f-491e-4176-9b47-b59c4ca6529c",
   "metadata": {},
   "outputs": [],
   "source": [
    "Wx_lst = []\n",
    "for _ in range(10000):\n",
    "    state = pc.stabilizer.random_bit_state(N2)\n",
    "    circ.backward(state)\n",
    "    Wx_lst.append(abs(state.expect(X))**2)\n",
    "Wx = np.mean(np.array(Wx_lst))"
   ]
  },
  {
   "cell_type": "code",
   "execution_count": 63,
   "id": "1087a220-9474-42bb-a1e5-e2f9a3297744",
   "metadata": {},
   "outputs": [
    {
     "data": {
      "text/plain": [
       "2.9797377830750893"
      ]
     },
     "execution_count": 63,
     "metadata": {},
     "output_type": "execute_result"
    }
   ],
   "source": [
    "1/Wx"
   ]
  },
  {
   "cell_type": "code",
   "execution_count": 64,
   "id": "d46f608b-b339-4883-8d2e-63714f5e35a6",
   "metadata": {},
   "outputs": [],
   "source": [
    "Wz_lst = []\n",
    "for _ in range(10000):\n",
    "    state = pc.stabilizer.random_bit_state(N2)\n",
    "    circ.backward(state)\n",
    "    Wz_lst.append(abs(state.expect(Z))**2)\n",
    "Wz = np.mean(np.array(Wz_lst))\n",
    "Wxx_lst = []\n",
    "for _ in range(10000):\n",
    "    state = pc.stabilizer.random_bit_state(N2)\n",
    "    circ.backward(state)\n",
    "    Wxx_lst.append(abs(state.expect(XX))**2)\n",
    "Wxx = np.mean(np.array(Wxx_lst))\n",
    "Wzz_lst = []\n",
    "for _ in range(10000):\n",
    "    state = pc.stabilizer.random_bit_state(N2)\n",
    "    circ.backward(state)\n",
    "    Wzz_lst.append(abs(state.expect(ZZ))**2)\n",
    "Wzz = np.mean(np.array(Wzz_lst))"
   ]
  },
  {
   "cell_type": "code",
   "execution_count": 65,
   "id": "98d8b546-dddc-46ee-9f64-aaca8a930533",
   "metadata": {},
   "outputs": [
    {
     "data": {
      "text/plain": [
       "9.19963201471941"
      ]
     },
     "execution_count": 65,
     "metadata": {},
     "output_type": "execute_result"
    }
   ],
   "source": [
    "1/Wxx"
   ]
  },
  {
   "cell_type": "code",
   "execution_count": 66,
   "id": "fb9b4197-059d-4243-a6c3-4992231c5293",
   "metadata": {},
   "outputs": [
    {
     "data": {
      "text/plain": [
       "8.347245409015025"
      ]
     },
     "execution_count": 66,
     "metadata": {},
     "output_type": "execute_result"
    }
   ],
   "source": [
    "1/Wzz"
   ]
  },
  {
   "cell_type": "code",
   "execution_count": null,
   "id": "5341b68c-95bd-4de0-8cdf-037e0a2bbe77",
   "metadata": {},
   "outputs": [],
   "source": []
  }
 ],
 "metadata": {
  "kernelspec": {
   "display_name": "Python 3 (ipykernel)",
   "language": "python",
   "name": "python3"
  },
  "language_info": {
   "codemirror_mode": {
    "name": "ipython",
    "version": 3
   },
   "file_extension": ".py",
   "mimetype": "text/x-python",
   "name": "python",
   "nbconvert_exporter": "python",
   "pygments_lexer": "ipython3",
   "version": "3.9.12"
  }
 },
 "nbformat": 4,
 "nbformat_minor": 5
}
