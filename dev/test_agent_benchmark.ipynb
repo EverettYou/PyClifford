{
 "cells": [
  {
   "cell_type": "code",
   "execution_count": 3,
   "metadata": {},
   "outputs": [],
   "source": [
    "# add the parent directory to the path, so that we can import the package\n",
    "import sys\n",
    "sys.path.insert(0, '..')"
   ]
  },
  {
   "cell_type": "code",
   "execution_count": 4,
   "metadata": {},
   "outputs": [
    {
     "name": "stdout",
     "output_type": "stream",
     "text": [
      "The autoreload extension is already loaded. To reload it, use:\n",
      "  %reload_ext autoreload\n"
     ]
    }
   ],
   "source": [
    "import numpy\n",
    "%load_ext autoreload\n",
    "%autoreload 2\n",
    "# will autoupdate any of the packages imported:\n",
    "import pyclifford as pc"
   ]
  },
  {
   "cell_type": "markdown",
   "metadata": {},
   "source": [
    "# Helper Functions"
   ]
  },
  {
   "cell_type": "code",
   "execution_count": 63,
   "metadata": {},
   "outputs": [],
   "source": [
    "def to_latex(obj):\n",
    "    if isinstance(obj, pc.PauliMonomial):\n",
    "        z = obj.c * (1j ** obj.p)\n",
    "        if z == 0.:\n",
    "            return \"0\"\n",
    "        elif z.real == 0.:\n",
    "            s = \"\"\n",
    "        elif z == 1.:\n",
    "            s = \"\"\n",
    "        elif z == -1.:\n",
    "            s = \"-\"\n",
    "        else:\n",
    "            s = str(z.real)\n",
    "        if z.imag > 0:\n",
    "            s += \"+\"\n",
    "            if z.imag != 1.:\n",
    "                s += str(z.imag)\n",
    "            s += \"i\"\n",
    "        elif z.imag < 0:\n",
    "            if z.imag != -1.:\n",
    "                s += str(z.imag)\n",
    "            else:\n",
    "                s += \"-\"\n",
    "            s += \"i\"\n",
    "        if len(s) > 0:\n",
    "            s += \" \"\n",
    "        for i in range(obj.N):\n",
    "            if numpy.array_equal(obj.g[2*i:2*i+2], [1,0]):\n",
    "                s += \"X\" + \"_{\" + str(i+1) + \"}\"\n",
    "            elif numpy.array_equal(obj.g[2*i:2*i+2], [1,1]):\n",
    "                s += \"Y\" + \"_{\" + str(i+1) + \"}\"\n",
    "            elif numpy.array_equal(obj.g[2*i:2*i+2], [0,1]):\n",
    "                s += \"Z\" + \"_{\" + str(i+1) + \"}\"\n",
    "        if s[-1] == \" \":\n",
    "            s += \"I\"\n",
    "        return s\n",
    "    elif isinstance(obj, pc.PauliPolynomial):\n",
    "        s = \"\"\n",
    "        for k, term in enumerate(obj):\n",
    "            s_term = to_latex(term)\n",
    "            if k != 0:\n",
    "                if s_term[0] == '-':\n",
    "                    s_term = ' ' + s_term\n",
    "                else:\n",
    "                    s_term = ' +' + s_term\n",
    "            s  = s + s_term\n",
    "        return s\n",
    "    elif isinstance(obj, pc.Pauli):\n",
    "        return to_latex(obj.as_monomial())\n",
    "    elif isinstance(obj, pc.PauliList):\n",
    "        return [to_latex(op) for op in obj]\n",
    "    else:\n",
    "        return str(obj)\n"
   ]
  },
  {
   "cell_type": "markdown",
   "metadata": {},
   "source": [
    "# Benchmark Problems for Agents"
   ]
  },
  {
   "cell_type": "markdown",
   "metadata": {},
   "source": [
    "## I. Pauli Algebra"
   ]
  },
  {
   "cell_type": "markdown",
   "metadata": {},
   "source": [
    "### I.1. Product of Pauli Strings"
   ]
  },
  {
   "cell_type": "code",
   "execution_count": 64,
   "metadata": {},
   "outputs": [
    {
     "name": "stdout",
     "output_type": "stream",
     "text": [
      "(+i Z_{1}) (-i X_{1}) = +i Y_{1}\n",
      "(- Z_{1}) (-i I) = +i Z_{1}\n",
      "(- Y_{1}Y_{2}) (+i X_{1}X_{2}) = +i Z_{1}Z_{2}\n",
      "(+i Z_{1}Y_{2}) (Z_{1}X_{2}) = Z_{2}\n",
      "(Z_{1}X_{2}Y_{3}) (-i Z_{1}Z_{2}X_{3}) = +i Y_{2}Z_{3}\n",
      "(+i Z_{1}Y_{2}X_{3}) (-i X_{2}Y_{3}Y_{4}) = Z_{1}Z_{2}Z_{3}Y_{4}\n",
      "(- X_{2}X_{4}) (- X_{1}Y_{3}X_{4}Z_{5}) = X_{1}X_{2}Y_{3}Z_{5}\n",
      "(+i Y_{2}Z_{3}X_{4}X_{5}Z_{6}) (-i X_{1}X_{2}X_{3}Y_{4}Y_{5}Z_{6}) = - X_{1}Z_{2}Y_{3}Z_{4}Z_{5}\n",
      "(-i X_{1}Y_{2}Z_{5}X_{6}Y_{7}Z_{8}) (-i Y_{1}Y_{2}Z_{3}X_{4}X_{5}X_{7}) = -i Z_{1}Z_{3}X_{4}Y_{5}X_{6}Z_{7}Z_{8}\n",
      "(- X_{2}X_{3}X_{4}Z_{5}Z_{6}Y_{7}Y_{8}Z_{10}) (- Y_{3}X_{4}X_{5}Y_{6}X_{7}Z_{8}) = +i X_{2}Z_{3}Y_{5}X_{6}Z_{7}X_{8}Z_{10}\n",
      "(-i X_{1}X_{2}Z_{4}Z_{5}Z_{6}Y_{8}Z_{9}Z_{10}X_{11}X_{12}Z_{14}) (X_{2}X_{3}Y_{4}X_{5}Z_{6}Z_{7}Z_{8}X_{9}Z_{10}Z_{11}Z_{12}X_{13}X_{14}) = X_{1}X_{3}X_{4}Y_{5}Z_{7}X_{8}Y_{9}Y_{11}Y_{12}X_{13}Y_{14}\n",
      "(- X_{3}X_{4}Z_{5}X_{6}Z_{7}Y_{8}Y_{10}Z_{12}Z_{14}X_{17}Z_{18}) (-i Z_{1}X_{2}X_{3}X_{4}Y_{5}X_{6}Z_{8}Z_{9}X_{10}Z_{11}Y_{13}Z_{15}Y_{16}Y_{17}) = +i Z_{1}X_{2}X_{5}Z_{7}X_{8}Z_{9}Z_{10}Z_{11}Z_{12}Y_{13}Z_{14}Z_{15}Y_{16}Z_{17}Z_{18}\n",
      "\n"
     ]
    }
   ],
   "source": [
    "def prod_pauli(Nmin, samples, seed=42):\n",
    "    rng = numpy.random.default_rng(seed)\n",
    "    txt = \"\"\n",
    "    for k in range(samples):\n",
    "        N = round(Nmin + 1.3**k - 1)\n",
    "        gs = rng.integers(0, 2, (2, 2*N))\n",
    "        ps = rng.integers(0, 4, (2,))\n",
    "        op0, op1 = pc.PauliList(gs, ps)\n",
    "        op = op0 @ op1\n",
    "        txt += \"({}) ({}) = {}\\n\".format(to_latex(op0), to_latex(op1), to_latex(op))\n",
    "    return txt\n",
    "print(prod_pauli(1, 12))"
   ]
  },
  {
   "cell_type": "markdown",
   "metadata": {},
   "source": [
    "### I.2. Krylov Space Construction"
   ]
  },
  {
   "cell_type": "code",
   "execution_count": 178,
   "metadata": {},
   "outputs": [],
   "source": [
    "def krylov_space(H, tol=1e-10):\n",
    "    basis = [pc.pauli_identity(H.N)]\n",
    "    def inner(A, B):\n",
    "        return (A @ B).trace()/2**H.N\n",
    "    while True:\n",
    "        # Generate next potential basis vector H^n\n",
    "        Knew = H @ basis[-1]\n",
    "        # Gram-Schmidt orthogonalization against existing basis\n",
    "        for K in basis:\n",
    "            proj = inner(K, Knew).item()\n",
    "            Knew = Knew - proj * K\n",
    "        # Check if new vector is linearly independent\n",
    "        norm = inner(Knew, Knew).real.item()\n",
    "        if norm < tol:\n",
    "            break\n",
    "        # Add normalized vector to basis\n",
    "        basis.append(Knew/numpy.sqrt(norm).item())\n",
    "    dim = len(basis)\n",
    "    for i, A in enumerate(basis):\n",
    "        for j, B in enumerate(basis):\n",
    "            for k, C in enumerate(basis):\n",
    "                ope = inner(C, A @ B).real.round(decimals=15)\n",
    "                if ope != 0.:\n",
    "                    print(\"({},{},{}): {}\".format(i, j, k, ope))\n",
    "    return basis"
   ]
  },
  {
   "cell_type": "code",
   "execution_count": 179,
   "metadata": {},
   "outputs": [
    {
     "name": "stdout",
     "output_type": "stream",
     "text": [
      "(0,0,0): 1.0\n",
      "(0,1,1): 1.0\n",
      "(0,2,2): 1.0\n",
      "(1,0,1): 1.0\n",
      "(1,1,0): 1.0\n",
      "(1,1,2): -1.0\n",
      "(1,2,1): -1.0\n",
      "(2,0,2): 1.0\n",
      "(2,1,1): -1.0\n",
      "(2,2,0): 1.0\n"
     ]
    },
    {
     "data": {
      "text/plain": [
       "[1 II, -0.71 ZZ -0.71 XX, -1 YY]"
      ]
     },
     "execution_count": 179,
     "metadata": {},
     "output_type": "execute_result"
    }
   ],
   "source": [
    "H = - pc.pauli('XX') - pc.pauli('ZZ')\n",
    "krylov_space(H)"
   ]
  },
  {
   "cell_type": "code",
   "execution_count": 180,
   "metadata": {},
   "outputs": [
    {
     "name": "stdout",
     "output_type": "stream",
     "text": [
      "(0,0,0): 1.0\n",
      "(0,1,1): 1.0\n",
      "(0,2,2): 1.0\n",
      "(0,3,3): 1.0\n",
      "(0,4,4): 1.0\n",
      "(1,0,1): 1.0\n",
      "(1,1,0): 1.0\n",
      "(1,2,3): 0.408248290463863\n",
      "(1,3,2): 0.408248290463863\n",
      "(2,0,2): 1.0\n",
      "(2,1,3): 0.408248290463863\n",
      "(2,2,0): 1.0\n",
      "(2,2,2): 1.632993161855453\n",
      "(2,2,4): 1.0\n",
      "(2,3,1): 0.408248290463863\n",
      "(2,4,2): 1.0\n",
      "(3,0,3): 1.0\n",
      "(3,1,2): 0.408248290463863\n",
      "(3,2,1): 0.408248290463863\n",
      "(3,3,0): 1.0\n",
      "(4,0,4): 1.0\n",
      "(4,2,2): 1.0\n",
      "(4,4,0): 1.0\n"
     ]
    },
    {
     "data": {
      "text/plain": [
       "[1 IIII,\n",
       " -0.50 IIZZ -0.50 IZZI -0.50 ZZII -0.50 XXXX,\n",
       " 0.41 IZIZ +0.41 ZIZI +0.41 ZZZZ -0.41 XXYY -0.41 XYYX -0.41 YYXX,\n",
       " -0.50 ZIIZ +0.50 XYXY +0.50 YXYX -0.50 YYYY,\n",
       " -1 YXXY]"
      ]
     },
     "execution_count": 180,
     "metadata": {},
     "output_type": "execute_result"
    }
   ],
   "source": [
    "H = - pc.pauli('ZZII') - pc.pauli('IZZI') - pc.pauli('IIZZ') - pc.pauli('XXXX')\n",
    "krylov_space(H)"
   ]
  },
  {
   "cell_type": "markdown",
   "metadata": {},
   "source": [
    "## II. Random Clifford Circuit"
   ]
  },
  {
   "cell_type": "markdown",
   "metadata": {},
   "source": [
    "### II.1. Random Clifford Unitary Forward"
   ]
  },
  {
   "cell_type": "code",
   "execution_count": 225,
   "metadata": {},
   "outputs": [
    {
     "name": "stdout",
     "output_type": "stream",
     "text": [
      "X_{1} &\\mapsto - Y_{1}Y_{2}X_{4}Z_{5}X_{6}Y_{7}Y_{8}Z_{10}\n",
      "Z_{1} &\\mapsto Y_{3}Y_{4}Z_{5}Y_{6}Z_{7}Z_{8}Y_{9}Y_{10}\n",
      "X_{2} &\\mapsto - Y_{1}Y_{2}Y_{3}Z_{4}Z_{5}Y_{6}Z_{7}Y_{8}X_{9}X_{10}\n",
      "Z_{2} &\\mapsto - X_{1}Y_{3}Y_{4}Z_{5}Z_{6}X_{7}Z_{8}X_{9}X_{10}\n",
      "X_{3} &\\mapsto - X_{1}X_{3}X_{5}X_{6}Z_{8}Y_{9}X_{10}\n",
      "Z_{3} &\\mapsto Z_{2}X_{4}Y_{5}Y_{8}Z_{9}\n",
      "X_{4} &\\mapsto Z_{1}Y_{3}Y_{4}X_{5}Y_{6}X_{7}Y_{8}X_{10}\n",
      "Z_{4} &\\mapsto X_{2}Z_{3}Z_{4}Z_{7}Y_{8}X_{10}\n",
      "X_{5} &\\mapsto X_{1}Z_{3}Z_{5}Z_{6}Y_{7}Y_{9}Z_{10}\n",
      "Z_{5} &\\mapsto Z_{2}Z_{3}Z_{4}Y_{5}Z_{6}X_{7}X_{8}Z_{9}Z_{10}\n",
      "X_{6} &\\mapsto Y_{1}Y_{2}Z_{3}Z_{4}X_{5}Z_{6}Z_{7}X_{8}X_{10}\n",
      "Z_{6} &\\mapsto X_{1}X_{2}X_{4}Y_{5}Y_{9}Y_{10}\n",
      "X_{7} &\\mapsto Z_{1}Z_{2}Z_{3}Z_{4}Z_{5}X_{6}Z_{7}Y_{8}Z_{9}Z_{10}\n",
      "Z_{7} &\\mapsto X_{1}Z_{2}Z_{3}Z_{4}Y_{6}X_{9}Z_{10}\n",
      "X_{8} &\\mapsto - Y_{1}Y_{2}Z_{3}Z_{4}X_{8}X_{9}\n",
      "Z_{8} &\\mapsto Z_{1}X_{2}Z_{4}X_{6}Y_{7}X_{8}Y_{9}\n",
      "X_{9} &\\mapsto - Z_{1}Z_{3}Z_{4}X_{5}Y_{6}Z_{9}\n",
      "Z_{9} &\\mapsto - Y_{1}Y_{4}Z_{5}Z_{7}Y_{8}Z_{10}\n",
      "X_{10} &\\mapsto - Z_{2}Y_{3}Y_{5}X_{6}Y_{7}Z_{8}Y_{9}X_{10}\n",
      "Z_{10} &\\mapsto X_{1}X_{2}Y_{3}Y_{4}Z_{5}X_{6}X_{7}X_{9}Z_{10}\n"
     ]
    },
    {
     "data": {
      "text/plain": [
       "(['-i Z_{1}Z_{3}Z_{5}X_{8}Y_{9}X_{10}',\n",
       "  'X_{1}Y_{2}Y_{3}Y_{4}Y_{5}Y_{7}X_{8}X_{9}',\n",
       "  '+i Y_{2}Y_{3}X_{4}Y_{5}Z_{6}Z_{7}Z_{8}X_{9}',\n",
       "  '- Z_{3}X_{4}Y_{5}Y_{6}Z_{7}Z_{8}Y_{9}Z_{10}',\n",
       "  'Z_{1}Z_{2}X_{4}Y_{5}Y_{6}Y_{7}Y_{8}Y_{9}X_{10}',\n",
       "  '-i Z_{1}Y_{2}Y_{3}Y_{4}X_{5}X_{6}Y_{7}Z_{8}Z_{9}X_{10}'],\n",
       " ['-i Z_{1}X_{2}Z_{3}Y_{4}Z_{5}Y_{6}Z_{7}Y_{9}Z_{10}',\n",
       "  'X_{1}Z_{2}Z_{4}Y_{5}Y_{6}Y_{7}Y_{10}',\n",
       "  '+i X_{2}Z_{3}Z_{4}Z_{6}Y_{7}Y_{8}Y_{9}X_{10}',\n",
       "  '- Z_{1}Z_{3}X_{4}X_{6}X_{7}Z_{8}X_{9}X_{10}',\n",
       "  'Y_{1}Z_{3}Y_{4}X_{6}Z_{7}X_{8}Z_{10}',\n",
       "  '+i X_{1}X_{4}X_{5}Z_{6}Y_{7}Z_{9}Z_{10}'])"
      ]
     },
     "execution_count": 225,
     "metadata": {},
     "output_type": "execute_result"
    }
   ],
   "source": [
    "def random_clifford_forward(N, nop, seed=42):\n",
    "    numpy.random.seed(seed)\n",
    "    gs = numpy.random.randint(0, 2, (nop, 2*N))\n",
    "    ps = numpy.random.randint(0, 4, (nop,))\n",
    "    ops = pc.PauliList(gs, ps)\n",
    "    map = pc.random_clifford_map(N)\n",
    "    head = sum([[\"X_{\"+str(i+1)+\"} &\\mapsto\", \"Z_{\"+str(i+1)+\"} &\\mapsto\"] for i in range(N)],[])\n",
    "    for h, t in zip(head, to_latex(map)):\n",
    "        print(h+\" \"+t+\" \\\\\\\\\")\n",
    "    return to_latex(ops), to_latex(ops.transform_by(map))\n",
    "\n",
    "random_clifford_forward(10, 6)"
   ]
  },
  {
   "cell_type": "code",
   "execution_count": null,
   "metadata": {},
   "outputs": [],
   "source": []
  }
 ],
 "metadata": {
  "kernelspec": {
   "display_name": "Python 3",
   "language": "python",
   "name": "python3"
  },
  "language_info": {
   "codemirror_mode": {
    "name": "ipython",
    "version": 3
   },
   "file_extension": ".py",
   "mimetype": "text/x-python",
   "name": "python",
   "nbconvert_exporter": "python",
   "pygments_lexer": "ipython3",
   "version": "3.9.6"
  }
 },
 "nbformat": 4,
 "nbformat_minor": 2
}
